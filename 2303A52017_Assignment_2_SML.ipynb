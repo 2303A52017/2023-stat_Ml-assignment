{
  "nbformat": 4,
  "nbformat_minor": 0,
  "metadata": {
    "colab": {
      "provenance": []
    },
    "kernelspec": {
      "name": "python3",
      "display_name": "Python 3"
    },
    "language_info": {
      "name": "python"
    }
  },
  "cells": [
    {
      "cell_type": "markdown",
      "source": [
        "Question 1:\n",
        "\n",
        "Given the following dataset: X={1.3,1.5,2.6,2.6,3.2,3.9,4.2,3.7,3.10,3.0,11,6.7,1.9}. Compute the density of the data using a histogram with 5 bins.\n"
      ],
      "metadata": {
        "id": "mjrjrMGrJO_t"
      }
    },
    {
      "cell_type": "code",
      "source": [
        "import numpy as np\n",
        "import pandas as pd\n",
        "import matplotlib.pyplot as plt"
      ],
      "metadata": {
        "id": "8LRXJ4PcnwtW"
      },
      "execution_count": null,
      "outputs": []
    },
    {
      "cell_type": "code",
      "source": [
        "data = [1.3,1.5,2.6,2.6,3.2,3.9,4.2,3.7,3.10,3.0,11,6.7,1.9]"
      ],
      "metadata": {
        "id": "9VTy4V39JwAM"
      },
      "execution_count": null,
      "outputs": []
    },
    {
      "cell_type": "code",
      "source": [
        "data_series = pd.Series(data)"
      ],
      "metadata": {
        "id": "NsMMTZ1_KNQV"
      },
      "execution_count": null,
      "outputs": []
    },
    {
      "cell_type": "code",
      "source": [
        "hist, bin_edges = np.histogram(data_series,bins=5, density=True)"
      ],
      "metadata": {
        "id": "1hCZ5AS6od9e"
      },
      "execution_count": null,
      "outputs": []
    },
    {
      "cell_type": "code",
      "source": [
        "print(\"Histogram:\", hist)\n",
        "print(\"Bin edges:\", bin_edges)"
      ],
      "metadata": {
        "colab": {
          "base_uri": "https://localhost:8080/"
        },
        "id": "bdU99cQHK0OU",
        "outputId": "a2bee8e6-5336-4184-bd02-b9372eec32e6"
      },
      "execution_count": null,
      "outputs": [
        {
          "output_type": "stream",
          "name": "stdout",
          "text": [
            "Histogram: [0.31720856 0.11895321 0.03965107 0.         0.03965107]\n",
            "Bin edges: [ 1.3   3.24  5.18  7.12  9.06 11.  ]\n"
          ]
        }
      ]
    },
    {
      "cell_type": "code",
      "source": [
        "plt.hist(data_series, bins=5, density=True, alpha=0.6, color='blue', edgecolor='black')"
      ],
      "metadata": {
        "colab": {
          "base_uri": "https://localhost:8080/",
          "height": 484
        },
        "id": "DPiQGWDALGPs",
        "outputId": "0b8e62bb-2c36-4298-eab6-ad1ae59e6506"
      },
      "execution_count": null,
      "outputs": [
        {
          "output_type": "execute_result",
          "data": {
            "text/plain": [
              "(array([0.31720856, 0.11895321, 0.03965107, 0.        , 0.03965107]),\n",
              " array([ 1.3 ,  3.24,  5.18,  7.12,  9.06, 11.  ]),\n",
              " <BarContainer object of 5 artists>)"
            ]
          },
          "metadata": {},
          "execution_count": 12
        },
        {
          "output_type": "display_data",
          "data": {
            "text/plain": [
              "<Figure size 640x480 with 1 Axes>"
            ],
            "image/png": "[encoded data removed]"
          },
          "metadata": {}
        }
      ]
    },
    {
      "cell_type": "code",
      "source": [
        "plt.title('Histogram with Density')\n",
        "plt.xlabel('Data values')\n",
        "plt.ylabel('Density')"
      ],
      "metadata": {
        "colab": {
          "base_uri": "https://localhost:8080/",
          "height": 490
        },
        "id": "cplk0pleLleF",
        "outputId": "561d27bb-0eb4-4133-8ca5-6b05e64bf18f"
      },
      "execution_count": null,
      "outputs": [
        {
          "output_type": "execute_result",
          "data": {
            "text/plain": [
              "Text(0, 0.5, 'Density')"
            ]
          },
          "metadata": {},
          "execution_count": 13
        },
        {
          "output_type": "display_data",
          "data": {
            "text/plain": [
              "<Figure size 640x480 with 1 Axes>"
            ],
            "image/png": "[encoded data removed]"
          },
          "metadata": {}
        }
      ]
    },
    {
      "cell_type": "code",
      "source": [
        "plt.show()"
      ],
      "metadata": {
        "id": "pgoENPNUL-Tr"
      },
      "execution_count": null,
      "outputs": []
    },
    {
      "cell_type": "markdown",
      "source": [
        "Question 2:\n",
        "\n",
        "Find Mean, Median, Mode , Variance , Standard deviation , Range , Interquartile Range (IQR),  Skewness ,Kurtosis of x and y .\n",
        "\n"
      ],
      "metadata": {
        "id": "y1BNIKg6MVZT"
      }
    },
    {
      "cell_type": "code",
      "source": [
        "import numpy as np\n",
        "import pandas as pd\n",
        "import matplotlib.pyplot as plt"
      ],
      "metadata": {
        "id": "b_7R3A7bMjEF"
      },
      "execution_count": null,
      "outputs": []
    },
    {
      "cell_type": "code",
      "source": [
        "x = np.array([12,13,56,23,41,28,51])\n",
        "y = np.array([51,63,37,88,33,72,81])"
      ],
      "metadata": {
        "id": "Sy51BBURMwAr"
      },
      "execution_count": null,
      "outputs": []
    },
    {
      "cell_type": "code",
      "source": [
        "mean_x = np.mean(x)\n",
        "print(mean_x)"
      ],
      "metadata": {
        "colab": {
          "base_uri": "https://localhost:8080/"
        },
        "id": "QqPsJUYXNl81",
        "outputId": "c9518425-217e-428f-f884-1dfd1033bc4d"
      },
      "execution_count": null,
      "outputs": [
        {
          "output_type": "stream",
          "name": "stdout",
          "text": [
            "32.0\n"
          ]
        }
      ]
    },
    {
      "cell_type": "code",
      "source": [
        "median_x = np.median(x)\n",
        "print(median_x)"
      ],
      "metadata": {
        "colab": {
          "base_uri": "https://localhost:8080/"
        },
        "id": "LzzkWAmTNq97",
        "outputId": "d55b8b76-fa22-4f47-a2a1-2a968e5dd0a7"
      },
      "execution_count": null,
      "outputs": [
        {
          "output_type": "stream",
          "name": "stdout",
          "text": [
            "28.0\n"
          ]
        }
      ]
    },
    {
      "cell_type": "code",
      "source": [
        "mode_x =pd.Series(x).mode().values\n",
        "print(mode_x)"
      ],
      "metadata": {
        "colab": {
          "base_uri": "https://localhost:8080/"
        },
        "id": "-aAVSNx1Nvvq",
        "outputId": "30633694-43b3-4a81-bbe3-2bf7c558b1b9"
      },
      "execution_count": null,
      "outputs": [
        {
          "output_type": "stream",
          "name": "stdout",
          "text": [
            "[12 13 23 28 41 51 56]\n"
          ]
        }
      ]
    },
    {
      "cell_type": "code",
      "source": [
        "variance_x = np.var(x)\n",
        "print(variance_x)"
      ],
      "metadata": {
        "colab": {
          "base_uri": "https://localhost:8080/"
        },
        "id": "gr587ZVANyQn",
        "outputId": "a7ebb2e2-e06d-4dcc-cd90-6db556dc64a2"
      },
      "execution_count": null,
      "outputs": [
        {
          "output_type": "stream",
          "name": "stdout",
          "text": [
            "268.0\n"
          ]
        }
      ]
    },
    {
      "cell_type": "code",
      "source": [
        "std_dev_x = np.std(x)\n",
        "print(std_dev_x)"
      ],
      "metadata": {
        "colab": {
          "base_uri": "https://localhost:8080/"
        },
        "id": "jBj2GHSvN3xu",
        "outputId": "a745ee72-c58e-4947-eb46-182a6d7cb2d0"
      },
      "execution_count": null,
      "outputs": [
        {
          "output_type": "stream",
          "name": "stdout",
          "text": [
            "16.3707055437449\n"
          ]
        }
      ]
    },
    {
      "cell_type": "code",
      "source": [
        "range_x = np.max(x)-np.min(x)\n",
        "print(range_x)"
      ],
      "metadata": {
        "colab": {
          "base_uri": "https://localhost:8080/"
        },
        "id": "UZ7oPTmuN7Yd",
        "outputId": "b100211d-6ca5-4895-9f09-ff0f6018ee33"
      },
      "execution_count": null,
      "outputs": [
        {
          "output_type": "stream",
          "name": "stdout",
          "text": [
            "44\n"
          ]
        }
      ]
    },
    {
      "cell_type": "code",
      "source": [
        "iqr_x = np.percentile(x, 75) - np.percentile(x, 25)\n",
        "print(iqr_x)"
      ],
      "metadata": {
        "colab": {
          "base_uri": "https://localhost:8080/"
        },
        "id": "tCAOr1X5N-3H",
        "outputId": "7de8fc51-9860-4b4b-ad9e-637ecf64d81c"
      },
      "execution_count": null,
      "outputs": [
        {
          "output_type": "stream",
          "name": "stdout",
          "text": [
            "28.0\n"
          ]
        }
      ]
    },
    {
      "cell_type": "code",
      "source": [
        "skewness_x = (3 * (mean_x - median_x)) / std_dev_x\n",
        "print(skewness_x)"
      ],
      "metadata": {
        "colab": {
          "base_uri": "https://localhost:8080/"
        },
        "id": "Ldm3zNlFOBtt",
        "outputId": "f00971a3-885a-421b-af8d-6a715a36010e"
      },
      "execution_count": null,
      "outputs": [
        {
          "output_type": "stream",
          "name": "stdout",
          "text": [
            "0.7330166661378313\n"
          ]
        }
      ]
    },
    {
      "cell_type": "code",
      "source": [
        "kurtosis_x = np.mean((x - mean_x)**4) / (std_dev_x**4) - 3\n",
        "print(kurtosis_x)"
      ],
      "metadata": {
        "colab": {
          "base_uri": "https://localhost:8080/"
        },
        "id": "9b1rneFAOGss",
        "outputId": "188ea35e-b8ea-4c2e-de87-45b10ed6331a"
      },
      "execution_count": null,
      "outputs": [
        {
          "output_type": "stream",
          "name": "stdout",
          "text": [
            "-1.4768402125831401\n"
          ]
        }
      ]
    },
    {
      "cell_type": "code",
      "source": [
        "mean_y = np.mean(y)\n",
        "print(mean_y)"
      ],
      "metadata": {
        "colab": {
          "base_uri": "https://localhost:8080/"
        },
        "id": "j1MoSx38Oaz8",
        "outputId": "598b862e-0189-481b-853c-b862494a1e8b"
      },
      "execution_count": null,
      "outputs": [
        {
          "output_type": "stream",
          "name": "stdout",
          "text": [
            "60.714285714285715\n"
          ]
        }
      ]
    },
    {
      "cell_type": "code",
      "source": [
        "median_y = np.median(y)\n",
        "print(median_y)"
      ],
      "metadata": {
        "colab": {
          "base_uri": "https://localhost:8080/"
        },
        "id": "_yd9A49XOfWC",
        "outputId": "f0e96b73-b89c-4e83-a7f3-03c5e2a6c4b7"
      },
      "execution_count": null,
      "outputs": [
        {
          "output_type": "stream",
          "name": "stdout",
          "text": [
            "63.0\n"
          ]
        }
      ]
    },
    {
      "cell_type": "code",
      "source": [
        "variance_y = np.var(y)\n",
        "print(variance_y)"
      ],
      "metadata": {
        "colab": {
          "base_uri": "https://localhost:8080/"
        },
        "id": "Cj5M5KSIOk7W",
        "outputId": "454cb473-600a-498c-b0f7-c9b9b213cdc8"
      },
      "execution_count": null,
      "outputs": [
        {
          "output_type": "stream",
          "name": "stdout",
          "text": [
            "387.6326530612245\n"
          ]
        }
      ]
    },
    {
      "cell_type": "code",
      "source": [
        "std_dev_y = np.std(y)\n",
        "print(std_dev_y)"
      ],
      "metadata": {
        "colab": {
          "base_uri": "https://localhost:8080/"
        },
        "id": "F9ggGJmDOod7",
        "outputId": "52b61892-6679-4c4d-f7ab-2759c3da1281"
      },
      "execution_count": null,
      "outputs": [
        {
          "output_type": "stream",
          "name": "stdout",
          "text": [
            "19.68838878784205\n"
          ]
        }
      ]
    },
    {
      "cell_type": "code",
      "source": [
        "range_y = np.max(y)-np.min(y)\n",
        "print(range_y)"
      ],
      "metadata": {
        "colab": {
          "base_uri": "https://localhost:8080/"
        },
        "id": "wSGbOI-iOt5C",
        "outputId": "19ca0f2e-f35f-486d-924f-98f938bbe1b9"
      },
      "execution_count": null,
      "outputs": [
        {
          "output_type": "stream",
          "name": "stdout",
          "text": [
            "55\n"
          ]
        }
      ]
    },
    {
      "cell_type": "code",
      "source": [
        "iqr_y = np.percentile(y, 75) - np.percentile(y,25)\n",
        "print(iqr_y)"
      ],
      "metadata": {
        "colab": {
          "base_uri": "https://localhost:8080/"
        },
        "id": "ukFmHCcKOxrP",
        "outputId": "6864c679-7264-4187-ac94-c82524e20ce3"
      },
      "execution_count": null,
      "outputs": [
        {
          "output_type": "stream",
          "name": "stdout",
          "text": [
            "32.5\n"
          ]
        }
      ]
    },
    {
      "cell_type": "code",
      "source": [
        "skewness_y = (3 * (mean_y - median_y)) / std_dev_y\n",
        "print(skewness_y)"
      ],
      "metadata": {
        "colab": {
          "base_uri": "https://localhost:8080/"
        },
        "id": "kUUn9nvpO1E-",
        "outputId": "c36a52c7-59bc-443b-a28e-9397d20ee5b9"
      },
      "execution_count": null,
      "outputs": [
        {
          "output_type": "stream",
          "name": "stdout",
          "text": [
            "-0.3482835965417987\n"
          ]
        }
      ]
    },
    {
      "cell_type": "code",
      "source": [
        "kurtosis_y = np.mean((y - mean_y)**4) / (std_dev_y**4) - 3\n",
        "print(kurtosis_y)"
      ],
      "metadata": {
        "colab": {
          "base_uri": "https://localhost:8080/"
        },
        "id": "ICnDz3kKPEJS",
        "outputId": "ff2691ea-2097-4873-ecac-c2174979f3ee"
      },
      "execution_count": null,
      "outputs": [
        {
          "output_type": "stream",
          "name": "stdout",
          "text": [
            "-1.426529582797266\n"
          ]
        }
      ]
    },
    {
      "cell_type": "markdown",
      "source": [
        "Question 3:\n",
        "\n",
        "From the above data Find Mean, Median, Mode, Variance, Standard deviation, Range , Interquartile Range (IQR),  Skewness ,Kurtosis of each feature.\n"
      ],
      "metadata": {
        "id": "DC13e65JPgAH"
      }
    },
    {
      "cell_type": "code",
      "source": [
        "import numpy as np\n",
        "from scipy import stats\n",
        "import pandas as np"
      ],
      "metadata": {
        "id": "cqttqDL2PiWp"
      },
      "execution_count": null,
      "outputs": []
    }
  ]
}