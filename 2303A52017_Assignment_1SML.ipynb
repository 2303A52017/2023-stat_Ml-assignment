{
  "nbformat": 4,
  "nbformat_minor": 0,
  "metadata": {
    "colab": {
      "provenance": []
    },
    "kernelspec": {
      "name": "python3",
      "display_name": "Python 3"
    },
    "language_info": {
      "name": "python"
    }
  },
  "cells": [
    {
      "cell_type": "markdown",
      "source": [
        "Question 1:\n",
        "\n",
        "Given the following dataset: X={2.3,2.5,3.6,2.8,3.1,2.9,3.2,2.7,2.8,3.0}. Compute the density of the data using a histogram with 5 bins.\n"
      ],
      "metadata": {
        "id": "-k0_0qpkntjC"
      }
    },
    {
      "cell_type": "code",
      "source": [
        "import numpy as np\n",
        "import pandas as pd\n",
        "import matplotlib.pyplot as plt"
      ],
      "metadata": {
        "id": "8LRXJ4PcnwtW"
      },
      "execution_count": null,
      "outputs": []
    },
    {
      "cell_type": "code",
      "source": [
        "data = [2.3,2.5,3.6,2.8,3.1,2.9,3.2,2.7,2.8,3.0]"
      ],
      "metadata": {
        "id": "2I7TFXgyoMW7"
      },
      "execution_count": null,
      "outputs": []
    },
    {
      "cell_type": "code",
      "source": [
        "data_series = pd.Series(data)"
      ],
      "metadata": {
        "id": "DjL4GtBToYCE"
      },
      "execution_count": null,
      "outputs": []
    },
    {
      "cell_type": "code",
      "source": [
        "hist, bin_edges = np.histogram(data_series,bins=5, density=True)"
      ],
      "metadata": {
        "id": "1hCZ5AS6od9e"
      },
      "execution_count": null,
      "outputs": []
    },
    {
      "cell_type": "code",
      "source": [
        "print(\"Histogram:\", hist)\n",
        "print(\"Bin edges:\", bin_edges)"
      ],
      "metadata": {
        "colab": {
          "base_uri": "https://localhost:8080/"
        },
        "id": "N-HpYTI-pZEl",
        "outputId": "218a0dc9-b7c8-4228-a599-aa5b5c980087"
      },
      "execution_count": null,
      "outputs": [
        {
          "output_type": "stream",
          "name": "stdout",
          "text": [
            "Histogram: [0.76923077 1.15384615 0.76923077 0.76923077 0.38461538]\n",
            "Bin edges: [2.3  2.56 2.82 3.08 3.34 3.6 ]\n"
          ]
        }
      ]
    },
    {
      "cell_type": "code",
      "source": [
        "plt.hist(data_series, bins=5, density=True, alpha=0.6, color='black', edgecolor='black')"
      ],
      "metadata": {
        "colab": {
          "base_uri": "https://localhost:8080/",
          "height": 486
        },
        "id": "kb03y4Z3qQq7",
        "outputId": "46a483a6-2908-400a-e47c-662b133fd3e5"
      },
      "execution_count": null,
      "outputs": [
        {
          "output_type": "execute_result",
          "data": {
            "text/plain": [
              "(array([0.76923077, 1.15384615, 0.76923077, 0.76923077, 0.38461538]),\n",
              " array([2.3 , 2.56, 2.82, 3.08, 3.34, 3.6 ]),\n",
              " <BarContainer object of 5 artists>)"
            ]
          },
          "metadata": {},
          "execution_count": 28
        },
        {
          "output_type": "display_data",
          "data": {
            "text/plain": [
              "<Figure size 640x480 with 1 Axes>"
            ],
            "image/png": "[encoded data removed]"
          },
          "metadata": {}
        }
      ]
    },
    {
      "cell_type": "code",
      "source": [
        "plt.title('Histogram with Density')\n",
        "plt.xlabel('Data values')\n",
        "plt.ylabel('Density')"
      ],
      "metadata": {
        "colab": {
          "base_uri": "https://localhost:8080/",
          "height": 490
        },
        "id": "iVgf0zMxudoP",
        "outputId": "286c24bd-435b-4183-c6ee-27a1a8ff8c8e"
      },
      "execution_count": null,
      "outputs": [
        {
          "output_type": "execute_result",
          "data": {
            "text/plain": [
              "Text(0, 0.5, 'Density')"
            ]
          },
          "metadata": {},
          "execution_count": 29
        },
        {
          "output_type": "display_data",
          "data": {
            "text/plain": [
              "<Figure size 640x480 with 1 Axes>"
            ],
            "image/png": "[encoded data removed]"
          },
          "metadata": {}
        }
      ]
    },
    {
      "cell_type": "code",
      "source": [
        "plt.show()"
      ],
      "metadata": {
        "id": "hdK3NYz3u8mz"
      },
      "execution_count": null,
      "outputs": []
    },
    {
      "cell_type": "markdown",
      "source": [
        "Question 2:\n",
        "Find Mean, Median, Mode , Variance , Standard deviation , Range , Interquartile Range (IQR),  Skewness ,Kurtosis of x and y .\n",
        "\n"
      ],
      "metadata": {
        "id": "4slDxqRHvazE"
      }
    },
    {
      "cell_type": "code",
      "source": [
        "import numpy as np\n",
        "import pandas as pd\n",
        "import matplotlib.pyplot as plt"
      ],
      "metadata": {
        "id": "zBWuSeLuvhWY"
      },
      "execution_count": null,
      "outputs": []
    },
    {
      "cell_type": "code",
      "source": [
        "x = np.array([4, 5, 5, 6, 8, 3, 2, 8, 4, 3, 2, 7, 5, 8])\n",
        "y = np.array([4, 3, 2, 7, 5, 8])"
      ],
      "metadata": {
        "id": "F8P1BYSXvxQk"
      },
      "execution_count": null,
      "outputs": []
    },
    {
      "cell_type": "code",
      "source": [
        "mean_x = np.mean(x)\n",
        "print(mean_x)"
      ],
      "metadata": {
        "colab": {
          "base_uri": "https://localhost:8080/"
        },
        "id": "Ind0X9ynwO83",
        "outputId": "5978c45a-7fc7-409b-b896-97fcb279ddd6"
      },
      "execution_count": null,
      "outputs": [
        {
          "output_type": "stream",
          "name": "stdout",
          "text": [
            "5.0\n"
          ]
        }
      ]
    },
    {
      "cell_type": "code",
      "source": [
        "median_x = np.median(x)\n",
        "print(median_x)"
      ],
      "metadata": {
        "colab": {
          "base_uri": "https://localhost:8080/"
        },
        "id": "pduw-8iMwbgP",
        "outputId": "b69ace8e-ff39-4676-c17a-c75df4dcc3c0"
      },
      "execution_count": null,
      "outputs": [
        {
          "output_type": "stream",
          "name": "stdout",
          "text": [
            "5.0\n"
          ]
        }
      ]
    },
    {
      "cell_type": "code",
      "source": [
        "mode_x =pd.Series(x).mode().values\n",
        "print(mode_x)"
      ],
      "metadata": {
        "colab": {
          "base_uri": "https://localhost:8080/"
        },
        "id": "Yfs-gW8ewqqm",
        "outputId": "7f18f96e-4c9f-4e86-cb86-0fcf268c56ca"
      },
      "execution_count": null,
      "outputs": [
        {
          "output_type": "stream",
          "name": "stdout",
          "text": [
            "[5 8]\n"
          ]
        }
      ]
    },
    {
      "cell_type": "code",
      "source": [
        "variance_x = np.var(x)\n",
        "print(variance_x)"
      ],
      "metadata": {
        "colab": {
          "base_uri": "https://localhost:8080/"
        },
        "id": "06jViUzsxSUJ",
        "outputId": "7748ec66-69db-41c6-b265-66e0560d4c66"
      },
      "execution_count": null,
      "outputs": [
        {
          "output_type": "stream",
          "name": "stdout",
          "text": [
            "4.285714285714286\n"
          ]
        }
      ]
    },
    {
      "cell_type": "code",
      "source": [
        "std_dev_x = np.std(x)\n",
        "print(std_dev_x)"
      ],
      "metadata": {
        "colab": {
          "base_uri": "https://localhost:8080/"
        },
        "id": "9w081ZL_xlZ6",
        "outputId": "0cfc15ba-5f79-44bd-a2e2-949104752201"
      },
      "execution_count": null,
      "outputs": [
        {
          "output_type": "stream",
          "name": "stdout",
          "text": [
            "2.0701966780270626\n"
          ]
        }
      ]
    },
    {
      "cell_type": "code",
      "source": [
        "range_x = np.max(x)-np.min(x)\n",
        "print(range_x)"
      ],
      "metadata": {
        "colab": {
          "base_uri": "https://localhost:8080/"
        },
        "id": "kmz0vEutxw3R",
        "outputId": "01d9d27c-923d-4b0d-cf78-146428fe503a"
      },
      "execution_count": null,
      "outputs": [
        {
          "output_type": "stream",
          "name": "stdout",
          "text": [
            "6\n"
          ]
        }
      ]
    },
    {
      "cell_type": "code",
      "source": [
        "iqr_x = np.percentile(x, 75) - np.percentile(x, 25)\n",
        "print(iqr_x)"
      ],
      "metadata": {
        "colab": {
          "base_uri": "https://localhost:8080/"
        },
        "id": "aUtH1hIzx-QD",
        "outputId": "4951844d-ed48-4f7f-c197-fd4705c823bd"
      },
      "execution_count": null,
      "outputs": [
        {
          "output_type": "stream",
          "name": "stdout",
          "text": [
            "3.5\n"
          ]
        }
      ]
    },
    {
      "cell_type": "code",
      "source": [
        "skewness_x = (3 * (mean_x - median_x)) / std_dev_x\n",
        "print(skewness_x)"
      ],
      "metadata": {
        "colab": {
          "base_uri": "https://localhost:8080/"
        },
        "id": "B6J1HzHUyTW1",
        "outputId": "c12b00c5-894b-42fd-b110-91a5a3a740dc"
      },
      "execution_count": null,
      "outputs": [
        {
          "output_type": "stream",
          "name": "stdout",
          "text": [
            "0.0\n"
          ]
        }
      ]
    },
    {
      "cell_type": "code",
      "source": [
        "kurtosis_x = np.mean((x - mean_x)**4) / (std_dev_x**4) - 3\n",
        "print(kurtosis_x)"
      ],
      "metadata": {
        "colab": {
          "base_uri": "https://localhost:8080/"
        },
        "id": "Y_8cN5AJyqAl",
        "outputId": "0fea519d-3ff7-44a8-cc55-11e8d8ed0429"
      },
      "execution_count": null,
      "outputs": [
        {
          "output_type": "stream",
          "name": "stdout",
          "text": [
            "-1.2266666666666666\n"
          ]
        }
      ]
    },
    {
      "cell_type": "code",
      "source": [
        "mean_y = np.mean(y)\n",
        "print(mean_y)"
      ],
      "metadata": {
        "colab": {
          "base_uri": "https://localhost:8080/"
        },
        "id": "935M0FQwzQPM",
        "outputId": "bbb8e6aa-c162-49f5-a9da-a53dabca8806"
      },
      "execution_count": null,
      "outputs": [
        {
          "output_type": "stream",
          "name": "stdout",
          "text": [
            "4.833333333333333\n"
          ]
        }
      ]
    },
    {
      "cell_type": "code",
      "source": [
        "median_y = np.median(y)\n",
        "print(median_y)"
      ],
      "metadata": {
        "colab": {
          "base_uri": "https://localhost:8080/"
        },
        "id": "Qkq_iNr_zbYN",
        "outputId": "457ea880-a89c-493a-ea98-8ee344d1f0cc"
      },
      "execution_count": null,
      "outputs": [
        {
          "output_type": "stream",
          "name": "stdout",
          "text": [
            "4.5\n"
          ]
        }
      ]
    },
    {
      "cell_type": "code",
      "source": [
        "mode_y = pd.Series(y).mode().values\n",
        "print(mode_y)"
      ],
      "metadata": {
        "colab": {
          "base_uri": "https://localhost:8080/"
        },
        "id": "qCfPUJW-znNg",
        "outputId": "402a8cf2-a503-4a8a-f436-638cb2ccc59a"
      },
      "execution_count": null,
      "outputs": [
        {
          "output_type": "stream",
          "name": "stdout",
          "text": [
            "[2 3 4 5 7 8]\n"
          ]
        }
      ]
    },
    {
      "cell_type": "code",
      "source": [
        "variance_y = np.var(y)\n",
        "print(variance_y)"
      ],
      "metadata": {
        "colab": {
          "base_uri": "https://localhost:8080/"
        },
        "id": "et40BqDAz-V-",
        "outputId": "4adbe596-833f-4b07-bf63-dc1a86fbe14a"
      },
      "execution_count": null,
      "outputs": [
        {
          "output_type": "stream",
          "name": "stdout",
          "text": [
            "4.472222222222222\n"
          ]
        }
      ]
    },
    {
      "cell_type": "code",
      "source": [
        "std_dev_y = np.std(y)\n",
        "print(std_dev_y)"
      ],
      "metadata": {
        "colab": {
          "base_uri": "https://localhost:8080/"
        },
        "id": "pPUGJVoZ0TgJ",
        "outputId": "7f3beb57-91e4-4907-b7bd-ba3cbfe10734"
      },
      "execution_count": null,
      "outputs": [
        {
          "output_type": "stream",
          "name": "stdout",
          "text": [
            "2.1147629234082532\n"
          ]
        }
      ]
    },
    {
      "cell_type": "code",
      "source": [
        "range_y = np.max(y)-np.min(y)\n",
        "print(range_y)"
      ],
      "metadata": {
        "colab": {
          "base_uri": "https://localhost:8080/"
        },
        "id": "9mbxk4p10gSH",
        "outputId": "0c17d8e3-36d9-4edb-fa19-d162a468946a"
      },
      "execution_count": null,
      "outputs": [
        {
          "output_type": "stream",
          "name": "stdout",
          "text": [
            "6\n"
          ]
        }
      ]
    },
    {
      "cell_type": "code",
      "source": [
        "iqr_y = np.percentile(y, 75) - np.percentile(y,25)\n",
        "print(iqr_y)"
      ],
      "metadata": {
        "colab": {
          "base_uri": "https://localhost:8080/"
        },
        "id": "Hav-S-Am0uBB",
        "outputId": "36542fce-0657-4be6-e42b-d2b3820bbfb4"
      },
      "execution_count": null,
      "outputs": [
        {
          "output_type": "stream",
          "name": "stdout",
          "text": [
            "3.25\n"
          ]
        }
      ]
    },
    {
      "cell_type": "code",
      "source": [
        "skewness_y = (3 * (mean_y - median_y)) / std_dev_y\n",
        "print(skewness_y)"
      ],
      "metadata": {
        "colab": {
          "base_uri": "https://localhost:8080/"
        },
        "id": "mkoIEtmv1Hwr",
        "outputId": "e2dcef57-7cd5-44eb-d979-65e76147b4b6"
      },
      "execution_count": null,
      "outputs": [
        {
          "output_type": "stream",
          "name": "stdout",
          "text": [
            "0.47286624374346\n"
          ]
        }
      ]
    },
    {
      "cell_type": "code",
      "source": [
        "kurtosis_y = np.mean((y - mean_y)**4) / (std_dev_y**4) - 3\n",
        "print(kurtosis_y)"
      ],
      "metadata": {
        "colab": {
          "base_uri": "https://localhost:8080/"
        },
        "id": "3WRG7Z2x1pTj",
        "outputId": "e0c110a7-65f5-4d5b-c77b-5c893ea93b9d"
      },
      "execution_count": null,
      "outputs": [
        {
          "output_type": "stream",
          "name": "stdout",
          "text": [
            "-1.3432352146907907\n"
          ]
        }
      ]
    },
    {
      "cell_type": "markdown",
      "source": [
        "Question 3:\n",
        "\n",
        "From the above data Find Mean, Median, Mode, Variance, Standard deviation, Range , Interquartile Range (IQR),  Skewness ,Kurtosis of each feature."
      ],
      "metadata": {
        "id": "ljK8L8rk2nfh"
      }
    },
    {
      "cell_type": "code",
      "source": [
        "import numpy as np\n",
        "from scipy import stats\n",
        "import pandas as pd\n",
        "\n"
      ],
      "metadata": {
        "id": "1366w7o62ou8"
      },
      "execution_count": null,
      "outputs": []
    },
    {
      "cell_type": "code",
      "source": [
        "data = pd.read_csv('/content/sample_data/california_housing_test.csv')\n",
        "data.head()\n"
      ],
      "metadata": {
        "colab": {
          "base_uri": "https://localhost:8080/",
          "height": 206
        },
        "id": "1Iy5NiOskLGZ",
        "outputId": "52f3c553-5892-4cd6-9ee9-24b79fd78644"
      },
      "execution_count": null,
      "outputs": [
        {
          "output_type": "execute_result",
          "data": {
            "text/plain": [
              "   longitude  latitude  housing_median_age  total_rooms  total_bedrooms  \\\n",
              "0    -122.05     37.37                27.0       3885.0           661.0   \n",
              "1    -118.30     34.26                43.0       1510.0           310.0   \n",
              "2    -117.81     33.78                27.0       3589.0           507.0   \n",
              "3    -118.36     33.82                28.0         67.0            15.0   \n",
              "4    -119.67     36.33                19.0       1241.0           244.0   \n",
              "\n",
              "   population  households  median_income  median_house_value  \n",
              "0      1537.0       606.0         6.6085            344700.0  \n",
              "1       809.0       277.0         3.5990            176500.0  \n",
              "2      1484.0       495.0         5.7934            270500.0  \n",
              "3        49.0        11.0         6.1359            330000.0  \n",
              "4       850.0       237.0         2.9375             81700.0  "
            ],
            "text/html": [
              "\n",
              "  <div id=\"df-3a4e03ac-ec26-4cf8-8d79-50e7c5e441e4\" class=\"colab-df-container\">\n",
              "    <div>\n",
              "<style scoped>\n",
              "    .dataframe tbody tr th:only-of-type {\n",
              "        vertical-align: middle;\n",
              "    }\n",
              "\n",
              "    .dataframe tbody tr th {\n",
              "        vertical-align: top;\n",
              "    }\n",
              "\n",
              "    .dataframe thead th {\n",
              "        text-align: right;\n",
              "    }\n",
              "</style>\n",
              "<table border=\"1\" class=\"dataframe\">\n",
              "  <thead>\n",
              "    <tr style=\"text-align: right;\">\n",
              "      <th></th>\n",
              "      <th>longitude</th>\n",
              "      <th>latitude</th>\n",
              "      <th>housing_median_age</th>\n",
              "      <th>total_rooms</th>\n",
              "      <th>total_bedrooms</th>\n",
              "      <th>population</th>\n",
              "      <th>households</th>\n",
              "      <th>median_income</th>\n",
              "      <th>median_house_value</th>\n",
              "    </tr>\n",
              "  </thead>\n",
              "  <tbody>\n",
              "    <tr>\n",
              "      <th>0</th>\n",
              "      <td>-122.05</td>\n",
              "      <td>37.37</td>\n",
              "      <td>27.0</td>\n",
              "      <td>3885.0</td>\n",
              "      <td>661.0</td>\n",
              "      <td>1537.0</td>\n",
              "      <td>606.0</td>\n",
              "      <td>6.6085</td>\n",
              "      <td>344700.0</td>\n",
              "    </tr>\n",
              "    <tr>\n",
              "      <th>1</th>\n",
              "      <td>-118.30</td>\n",
              "      <td>34.26</td>\n",
              "      <td>43.0</td>\n",
              "      <td>1510.0</td>\n",
              "      <td>310.0</td>\n",
              "      <td>809.0</td>\n",
              "      <td>277.0</td>\n",
              "      <td>3.5990</td>\n",
              "      <td>176500.0</td>\n",
              "    </tr>\n",
              "    <tr>\n",
              "      <th>2</th>\n",
              "      <td>-117.81</td>\n",
              "      <td>33.78</td>\n",
              "      <td>27.0</td>\n",
              "      <td>3589.0</td>\n",
              "      <td>507.0</td>\n",
              "      <td>1484.0</td>\n",
              "      <td>495.0</td>\n",
              "      <td>5.7934</td>\n",
              "      <td>270500.0</td>\n",
              "    </tr>\n",
              "    <tr>\n",
              "      <th>3</th>\n",
              "      <td>-118.36</td>\n",
              "      <td>33.82</td>\n",
              "      <td>28.0</td>\n",
              "      <td>67.0</td>\n",
              "      <td>15.0</td>\n",
              "      <td>49.0</td>\n",
              "      <td>11.0</td>\n",
              "      <td>6.1359</td>\n",
              "      <td>330000.0</td>\n",
              "    </tr>\n",
              "    <tr>\n",
              "      <th>4</th>\n",
              "      <td>-119.67</td>\n",
              "      <td>36.33</td>\n",
              "      <td>19.0</td>\n",
              "      <td>1241.0</td>\n",
              "      <td>244.0</td>\n",
              "      <td>850.0</td>\n",
              "      <td>237.0</td>\n",
              "      <td>2.9375</td>\n",
              "      <td>81700.0</td>\n",
              "    </tr>\n",
              "  </tbody>\n",
              "</table>\n",
              "</div>\n",
              "    <div class=\"colab-df-buttons\">\n",
              "\n",
              "  <div class=\"colab-df-container\">\n",
              "    <button class=\"colab-df-convert\" onclick=\"convertToInteractive('df-3a4e03ac-ec26-4cf8-8d79-50e7c5e441e4')\"\n",
              "            title=\"Convert this dataframe to an interactive table.\"\n",
              "            style=\"display:none;\">\n",
              "\n",
              "  <svg xmlns=\"http://www.w3.org/2000/svg\" height=\"24px\" viewBox=\"0 -960 960 960\">\n",
              "    <path d=\"M120-120v-720h720v720H120Zm60-500h600v-160H180v160Zm220 220h160v-160H400v160Zm0 220h160v-160H400v160ZM180-400h160v-160H180v160Zm440 0h160v-160H620v160ZM180-180h160v-160H180v160Zm440 0h160v-160H620v160Z\"/>\n",
              "  </svg>\n",
              "    </button>\n",
              "\n",
              "  <style>\n",
              "    .colab-df-container {\n",
              "      display:flex;\n",
              "      gap: 12px;\n",
              "    }\n",
              "\n",
              "    .colab-df-convert {\n",
              "      background-color: #E8F0FE;\n",
              "      border: none;\n",
              "      border-radius: 50%;\n",
              "      cursor: pointer;\n",
              "      display: none;\n",
              "      fill: #1967D2;\n",
              "      height: 32px;\n",
              "      padding: 0 0 0 0;\n",
              "      width: 32px;\n",
              "    }\n",
              "\n",
              "    .colab-df-convert:hover {\n",
              "      background-color: #E2EBFA;\n",
              "      box-shadow: 0px 1px 2px rgba(60, 64, 67, 0.3), 0px 1px 3px 1px rgba(60, 64, 67, 0.15);\n",
              "      fill: #174EA6;\n",
              "    }\n",
              "\n",
              "    .colab-df-buttons div {\n",
              "      margin-bottom: 4px;\n",
              "    }\n",
              "\n",
              "    [theme=dark] .colab-df-convert {\n",
              "      background-color: #3B4455;\n",
              "      fill: #D2E3FC;\n",
              "    }\n",
              "\n",
              "    [theme=dark] .colab-df-convert:hover {\n",
              "      background-color: #434B5C;\n",
              "      box-shadow: 0px 1px 3px 1px rgba(0, 0, 0, 0.15);\n",
              "      filter: drop-shadow(0px 1px 2px rgba(0, 0, 0, 0.3));\n",
              "      fill: #FFFFFF;\n",
              "    }\n",
              "  </style>\n",
              "\n",
              "    <script>\n",
              "      const buttonEl =\n",
              "        document.querySelector('#df-3a4e03ac-ec26-4cf8-8d79-50e7c5e441e4 button.colab-df-convert');\n",
              "      buttonEl.style.display =\n",
              "        google.colab.kernel.accessAllowed ? 'block' : 'none';\n",
              "\n",
              "      async function convertToInteractive(key) {\n",
              "        const element = document.querySelector('#df-3a4e03ac-ec26-4cf8-8d79-50e7c5e441e4');\n",
              "        const dataTable =\n",
              "          await google.colab.kernel.invokeFunction('convertToInteractive',\n",
              "                                                    [key], {});\n",
              "        if (!dataTable) return;\n",
              "\n",
              "        const docLinkHtml = 'Like what you see? Visit the ' +\n",
              "          '<a target=\"_blank\" href=https://colab.research.google.com/notebooks/data_table.ipynb>data table notebook</a>'\n",
              "          + ' to learn more about interactive tables.';\n",
              "        element.innerHTML = '';\n",
              "        dataTable['output_type'] = 'display_data';\n",
              "        await google.colab.output.renderOutput(dataTable, element);\n",
              "        const docLink = document.createElement('div');\n",
              "        docLink.innerHTML = docLinkHtml;\n",
              "        element.appendChild(docLink);\n",
              "      }\n",
              "    </script>\n",
              "  </div>\n",
              "\n",
              "\n",
              "<div id=\"df-998d31c6-32f6-4fe0-a8eb-31752c931a01\">\n",
              "  <button class=\"colab-df-quickchart\" onclick=\"quickchart('df-998d31c6-32f6-4fe0-a8eb-31752c931a01')\"\n",
              "            title=\"Suggest charts\"\n",
              "            style=\"display:none;\">\n",
              "\n",
              "<svg xmlns=\"http://www.w3.org/2000/svg\" height=\"24px\"viewBox=\"0 0 24 24\"\n",
              "     width=\"24px\">\n",
              "    <g>\n",
              "        <path d=\"M19 3H5c-1.1 0-2 .9-2 2v14c0 1.1.9 2 2 2h14c1.1 0 2-.9 2-2V5c0-1.1-.9-2-2-2zM9 17H7v-7h2v7zm4 0h-2V7h2v10zm4 0h-2v-4h2v4z\"/>\n",
              "    </g>\n",
              "</svg>\n",
              "  </button>\n",
              "\n",
              "<style>\n",
              "  .colab-df-quickchart {\n",
              "      --bg-color: #E8F0FE;\n",
              "      --fill-color: #1967D2;\n",
              "      --hover-bg-color: #E2EBFA;\n",
              "      --hover-fill-color: #174EA6;\n",
              "      --disabled-fill-color: #AAA;\n",
              "      --disabled-bg-color: #DDD;\n",
              "  }\n",
              "\n",
              "  [theme=dark] .colab-df-quickchart {\n",
              "      --bg-color: #3B4455;\n",
              "      --fill-color: #D2E3FC;\n",
              "      --hover-bg-color: #434B5C;\n",
              "      --hover-fill-color: #FFFFFF;\n",
              "      --disabled-bg-color: #3B4455;\n",
              "      --disabled-fill-color: #666;\n",
              "  }\n",
              "\n",
              "  .colab-df-quickchart {\n",
              "    background-color: var(--bg-color);\n",
              "    border: none;\n",
              "    border-radius: 50%;\n",
              "    cursor: pointer;\n",
              "    display: none;\n",
              "    fill: var(--fill-color);\n",
              "    height: 32px;\n",
              "    padding: 0;\n",
              "    width: 32px;\n",
              "  }\n",
              "\n",
              "  .colab-df-quickchart:hover {\n",
              "    background-color: var(--hover-bg-color);\n",
              "    box-shadow: 0 1px 2px rgba(60, 64, 67, 0.3), 0 1px 3px 1px rgba(60, 64, 67, 0.15);\n",
              "    fill: var(--button-hover-fill-color);\n",
              "  }\n",
              "\n",
              "  .colab-df-quickchart-complete:disabled,\n",
              "  .colab-df-quickchart-complete:disabled:hover {\n",
              "    background-color: var(--disabled-bg-color);\n",
              "    fill: var(--disabled-fill-color);\n",
              "    box-shadow: none;\n",
              "  }\n",
              "\n",
              "  .colab-df-spinner {\n",
              "    border: 2px solid var(--fill-color);\n",
              "    border-color: transparent;\n",
              "    border-bottom-color: var(--fill-color);\n",
              "    animation:\n",
              "      spin 1s steps(1) infinite;\n",
              "  }\n",
              "\n",
              "  @keyframes spin {\n",
              "    0% {\n",
              "      border-color: transparent;\n",
              "      border-bottom-color: var(--fill-color);\n",
              "      border-left-color: var(--fill-color);\n",
              "    }\n",
              "    20% {\n",
              "      border-color: transparent;\n",
              "      border-left-color: var(--fill-color);\n",
              "      border-top-color: var(--fill-color);\n",
              "    }\n",
              "    30% {\n",
              "      border-color: transparent;\n",
              "      border-left-color: var(--fill-color);\n",
              "      border-top-color: var(--fill-color);\n",
              "      border-right-color: var(--fill-color);\n",
              "    }\n",
              "    40% {\n",
              "      border-color: transparent;\n",
              "      border-right-color: var(--fill-color);\n",
              "      border-top-color: var(--fill-color);\n",
              "    }\n",
              "    60% {\n",
              "      border-color: transparent;\n",
              "      border-right-color: var(--fill-color);\n",
              "    }\n",
              "    80% {\n",
              "      border-color: transparent;\n",
              "      border-right-color: var(--fill-color);\n",
              "      border-bottom-color: var(--fill-color);\n",
              "    }\n",
              "    90% {\n",
              "      border-color: transparent;\n",
              "      border-bottom-color: var(--fill-color);\n",
              "    }\n",
              "  }\n",
              "</style>\n",
              "\n",
              "  <script>\n",
              "    async function quickchart(key) {\n",
              "      const quickchartButtonEl =\n",
              "        document.querySelector('#' + key + ' button');\n",
              "      quickchartButtonEl.disabled = true;  // To prevent multiple clicks.\n",
              "      quickchartButtonEl.classList.add('colab-df-spinner');\n",
              "      try {\n",
              "        const charts = await google.colab.kernel.invokeFunction(\n",
              "            'suggestCharts', [key], {});\n",
              "      } catch (error) {\n",
              "        console.error('Error during call to suggestCharts:', error);\n",
              "      }\n",
              "      quickchartButtonEl.classList.remove('colab-df-spinner');\n",
              "      quickchartButtonEl.classList.add('colab-df-quickchart-complete');\n",
              "    }\n",
              "    (() => {\n",
              "      let quickchartButtonEl =\n",
              "        document.querySelector('#df-998d31c6-32f6-4fe0-a8eb-31752c931a01 button');\n",
              "      quickchartButtonEl.style.display =\n",
              "        google.colab.kernel.accessAllowed ? 'block' : 'none';\n",
              "    })();\n",
              "  </script>\n",
              "</div>\n",
              "\n",
              "    </div>\n",
              "  </div>\n"
            ],
            "application/vnd.google.colaboratory.intrinsic+json": {
              "type": "dataframe",
              "variable_name": "data",
              "summary": "{\n  \"name\": \"data\",\n  \"rows\": 3000,\n  \"fields\": [\n    {\n      \"column\": \"longitude\",\n      \"properties\": {\n        \"dtype\": \"number\",\n        \"std\": 1.9949362939550175,\n        \"min\": -124.18,\n        \"max\": -114.49,\n        \"num_unique_values\": 607,\n        \"samples\": [\n          -121.15,\n          -121.46,\n          -121.02\n        ],\n        \"semantic_type\": \"\",\n        \"description\": \"\"\n      }\n    },\n    {\n      \"column\": \"latitude\",\n      \"properties\": {\n        \"dtype\": \"number\",\n        \"std\": 2.129669523343834,\n        \"min\": 32.56,\n        \"max\": 41.92,\n        \"num_unique_values\": 587,\n        \"samples\": [\n          40.17,\n          33.69,\n          39.61\n        ],\n        \"semantic_type\": \"\",\n        \"description\": \"\"\n      }\n    },\n    {\n      \"column\": \"housing_median_age\",\n      \"properties\": {\n        \"dtype\": \"number\",\n        \"std\": 12.555395554955753,\n        \"min\": 1.0,\n        \"max\": 52.0,\n        \"num_unique_values\": 52,\n        \"samples\": [\n          14.0,\n          49.0,\n          7.0\n        ],\n        \"semantic_type\": \"\",\n        \"description\": \"\"\n      }\n    },\n    {\n      \"column\": \"total_rooms\",\n      \"properties\": {\n        \"dtype\": \"number\",\n        \"std\": 2155.593331625581,\n        \"min\": 6.0,\n        \"max\": 30450.0,\n        \"num_unique_values\": 2215,\n        \"samples\": [\n          1961.0,\n          1807.0,\n          680.0\n        ],\n        \"semantic_type\": \"\",\n        \"description\": \"\"\n      }\n    },\n    {\n      \"column\": \"total_bedrooms\",\n      \"properties\": {\n        \"dtype\": \"number\",\n        \"std\": 415.6543681363229,\n        \"min\": 2.0,\n        \"max\": 5419.0,\n        \"num_unique_values\": 1055,\n        \"samples\": [\n          532.0,\n          764.0,\n          2162.0\n        ],\n        \"semantic_type\": \"\",\n        \"description\": \"\"\n      }\n    },\n    {\n      \"column\": \"population\",\n      \"properties\": {\n        \"dtype\": \"number\",\n        \"std\": 1030.5430124122424,\n        \"min\": 5.0,\n        \"max\": 11935.0,\n        \"num_unique_values\": 1802,\n        \"samples\": [\n          947.0,\n          1140.0,\n          2019.0\n        ],\n        \"semantic_type\": \"\",\n        \"description\": \"\"\n      }\n    },\n    {\n      \"column\": \"households\",\n      \"properties\": {\n        \"dtype\": \"number\",\n        \"std\": 365.42270980552627,\n        \"min\": 2.0,\n        \"max\": 4930.0,\n        \"num_unique_values\": 1026,\n        \"samples\": [\n          646.0,\n          629.0,\n          504.0\n        ],\n        \"semantic_type\": \"\",\n        \"description\": \"\"\n      }\n    },\n    {\n      \"column\": \"median_income\",\n      \"properties\": {\n        \"dtype\": \"number\",\n        \"std\": 1.854511729691479,\n        \"min\": 0.4999,\n        \"max\": 15.0001,\n        \"num_unique_values\": 2578,\n        \"samples\": [\n          1.725,\n          0.7403,\n          2.6964\n        ],\n        \"semantic_type\": \"\",\n        \"description\": \"\"\n      }\n    },\n    {\n      \"column\": \"median_house_value\",\n      \"properties\": {\n        \"dtype\": \"number\",\n        \"std\": 113119.68746964628,\n        \"min\": 22500.0,\n        \"max\": 500001.0,\n        \"num_unique_values\": 1784,\n        \"samples\": [\n          71900.0,\n          63000.0,\n          115800.0\n        ],\n        \"semantic_type\": \"\",\n        \"description\": \"\"\n      }\n    }\n  ]\n}"
            }
          },
          "metadata": {},
          "execution_count": 3
        }
      ]
    },
    {
      "cell_type": "markdown",
      "source": [
        "mean"
      ],
      "metadata": {
        "id": "dZ0RCkpKkME5"
      }
    },
    {
      "cell_type": "code",
      "source": [
        "lg_mean = np.mean(data['longitude'])\n",
        "print(\"Longitude Mean:\", lg_mean)\n",
        "lat_mean = np.mean(data['latitude'])\n",
        "print(\"Latitude Mean:\", lat_mean)\n",
        "housing_median_age_mean = np.mean(data['housing_median_age'])\n",
        "print(\"Housing Median Age Mean:\", housing_median_age_mean)\n",
        "total_rooms_mean = np.mean(data['total_rooms'])\n",
        "print(\"Total Rooms Mean:\", total_rooms_mean)\n",
        "total_bedrooms_mean = np.mean(data['total_bedrooms'])\n",
        "print(\"Total Bedrooms Mean:\", total_bedrooms_mean)\n",
        "population_mean = np.mean(data['population'])\n",
        "print(\"Population Mean:\", population_mean)\n",
        "households_mean = np.mean(data['households'])\n",
        "print(\"Households Mean:\", households_mean)\n",
        "median_income_mean = np.mean(data['median_income'])\n",
        "print(\"Median Income Mean:\", median_income_mean)\n",
        "median_house_value_mean = np.mean(data['median_house_value'])\n",
        "print(\"Median House Value Mean:\", median_house_value_mean)"
      ],
      "metadata": {
        "colab": {
          "base_uri": "https://localhost:8080/"
        },
        "id": "FTSR6COhkOMi",
        "outputId": "d9d33d03-910f-4da4-e107-a17d093cd705"
      },
      "execution_count": null,
      "outputs": [
        {
          "output_type": "stream",
          "name": "stdout",
          "text": [
            "Longitude Mean: -119.58919999999999\n",
            "Latitude Mean: 35.635389999999994\n",
            "Housing Median Age Mean: 28.845333333333333\n",
            "Total Rooms Mean: 2599.578666666667\n",
            "Total Bedrooms Mean: 529.9506666666666\n",
            "Population Mean: 1402.7986666666666\n",
            "Households Mean: 489.912\n",
            "Median Income Mean: 3.8072717999999997\n",
            "Median House Value Mean: 205846.275\n"
          ]
        }
      ]
    },
    {
      "cell_type": "markdown",
      "source": [
        "median"
      ],
      "metadata": {
        "id": "QofMYFUFkhKp"
      }
    },
    {
      "cell_type": "code",
      "source": [
        "lg_median = np.median(data['longitude'])\n",
        "print(\"Longitude Median:\", lg_median)\n",
        "lat_median = np.median(data['latitude'])\n",
        "print(\"Latitude Median:\", lat_median)\n",
        "housing_median_age_median = np.median(data['housing_median_age'])\n",
        "print(\"Housing Median Age Median:\", housing_median_age_median)\n",
        "total_rooms_median = np.median(data['total_rooms'])\n",
        "print(\"Total Rooms Median:\", total_rooms_median)\n",
        "total_bedrooms_median = np.median(data['total_bedrooms'])\n",
        "print(\"Total Bedrooms Median:\", total_bedrooms_median)\n",
        "population_median = np.median(data['population'])\n",
        "print(\"Population Median:\", population_median)\n",
        "households_median = np.median(data['households'])\n",
        "print(\"Households Median:\", households_median)\n",
        "median_income_median = np.median(data['median_income'])\n",
        "print(\"Median Income Median:\", median_income_median)\n",
        "median_house_value_median = np.median(data['median_house_value'])\n",
        "print(\"Median House Value Median:\", median_house_value_median)"
      ],
      "metadata": {
        "colab": {
          "base_uri": "https://localhost:8080/"
        },
        "id": "6Vm_QE2KkoEA",
        "outputId": "b8d63870-c269-4365-cfd8-35da9638a0d0"
      },
      "execution_count": null,
      "outputs": [
        {
          "output_type": "stream",
          "name": "stdout",
          "text": [
            "Longitude Median: -118.485\n",
            "Latitude Median: 34.27\n",
            "Housing Median Age Median: 29.0\n",
            "Total Rooms Median: 2106.0\n",
            "Total Bedrooms Median: 437.0\n",
            "Population Median: 1155.0\n",
            "Households Median: 409.5\n",
            "Median Income Median: 3.4871499999999997\n",
            "Median House Value Median: 177650.0\n"
          ]
        }
      ]
    },
    {
      "cell_type": "markdown",
      "source": [
        "Mode"
      ],
      "metadata": {
        "id": "tnfN0Wv-kqJ4"
      }
    },
    {
      "cell_type": "code",
      "source": [
        "lg_mode = stats.mode(data['longitude'])\n",
        "print(\"Longitude Mode:\", lg_mode)\n",
        "lat_mode = stats.mode(data['latitude'])\n",
        "print(\"Latitude Mode:\", lat_mode)\n",
        "housing_median_age_mode = stats.mode(data['housing_median_age'])\n",
        "print(\"Housing Median Age Mode:\", housing_median_age_mode)\n",
        "total_rooms_mode = stats.mode(data['total_rooms'])\n",
        "print(\"Total Rooms Mode:\", total_rooms_mode)\n",
        "total_bedrooms_mode = stats.mode(data['total_bedrooms'])\n",
        "print(\"Total Bedrooms Mode:\", total_bedrooms_mode)\n",
        "population_mode = stats.mode(data['population'])\n",
        "print(\"Population Mode:\", population_mode)\n",
        "households_mode = stats.mode(data['households'])\n",
        "print(\"Households Mode:\", households_mode)\n",
        "median_income_mode = stats.mode(data['median_income'])\n",
        "print(\"Median Income Mode:\", median_income_mode)\n",
        "median_house_value_mode = stats.mode(data['median_house_value'])\n",
        "print(\"Median House Value Mode:\", median_house_value_mode)"
      ],
      "metadata": {
        "colab": {
          "base_uri": "https://localhost:8080/"
        },
        "id": "ZSa9FpOxkrq_",
        "outputId": "7d818a0b-72bf-40e2-aac5-a821414a7775"
      },
      "execution_count": null,
      "outputs": [
        {
          "output_type": "stream",
          "name": "stdout",
          "text": [
            "Longitude Mode: ModeResult(mode=-118.26, count=26)\n",
            "Latitude Mode: ModeResult(mode=34.02, count=35)\n",
            "Housing Median Age Mode: ModeResult(mode=52.0, count=173)\n",
            "Total Rooms Mode: ModeResult(mode=907.0, count=5)\n",
            "Total Bedrooms Mode: ModeResult(mode=314.0, count=15)\n",
            "Population Mode: ModeResult(mode=870.0, count=7)\n",
            "Households Mode: ModeResult(mode=273.0, count=12)\n",
            "Median Income Mode: ModeResult(mode=15.0001, count=9)\n",
            "Median House Value Mode: ModeResult(mode=500001.0, count=125)\n"
          ]
        }
      ]
    },
    {
      "cell_type": "markdown",
      "source": [
        "variance"
      ],
      "metadata": {
        "id": "pQ8F-K2pkxhg"
      }
    },
    {
      "cell_type": "code",
      "source": [
        "lg_variance = np.var(data['longitude'])\n",
        "print(\"Longitude Variance:\", lg_variance)\n",
        "lat_variance = np.var(data['latitude'])\n",
        "print(\"Latitude Variance:\", lat_variance)\n",
        "housing_median_age_variance = np.var(data['housing_median_age'])\n",
        "print(\"Housing Median Age Variance:\", housing_median_age_variance)\n",
        "total_rooms_variance = np.var(data['total_rooms'])\n",
        "print(\"Total Rooms Variance:\", total_rooms_variance)\n",
        "total_bedrooms_variance = np.var(data['total_bedrooms'])\n",
        "print(\"Total Bedrooms Variance:\", total_bedrooms_variance)\n",
        "population_variance = np.var(data['population'])\n",
        "print(\"Population Variance:\", population_variance)\n",
        "households_variance = np.var(data['households'])\n",
        "print(\"Households Variance:\", households_variance)\n",
        "median_income_variance = np.var(data['median_income'])\n",
        "print(\"Median Income Variance:\", median_income_variance)\n",
        "median_house_value_variance = np.var(data['median_house_value'])\n",
        "print(\"Median House Value Variance:\", median_house_value_variance)"
      ],
      "metadata": {
        "colab": {
          "base_uri": "https://localhost:8080/"
        },
        "id": "fH8dB-5wk34f",
        "outputId": "1e916e30-c021-4ac7-adf1-d10268f7c901"
      },
      "execution_count": null,
      "outputs": [
        {
          "output_type": "stream",
          "name": "stdout",
          "text": [
            "Longitude Variance: 3.9784442266666673\n",
            "Latitude Variance: 4.5339804479\n",
            "Housing Median Age Variance: 157.58541155555554\n",
            "Total Rooms Variance: 4645033.750478223\n",
            "Total Bedrooms Variance: 172710.9642328889\n",
            "Population Variance: 1061664.8941315555\n",
            "Households Variance: 133489.24558933332\n",
            "Median Income Variance: 3.4380673509780935\n",
            "Median House Value Variance: 12791798338.666039\n"
          ]
        }
      ]
    },
    {
      "cell_type": "markdown",
      "source": [
        "Standard Deviation"
      ],
      "metadata": {
        "id": "YIp0AoSMlbue"
      }
    },
    {
      "cell_type": "code",
      "source": [
        "lg_std = np.std(data['longitude'])\n",
        "print(\"Longitude Standard Deviation:\", lg_std)\n",
        "lat_std = np.std(data['latitude'])\n",
        "print(\"Latitude Standard Deviation:\", lat_std)\n",
        "housing_median_age_std = np.std(data['housing_median_age'])\n",
        "print(\"Housing Median Age Standard Deviation:\", housing_median_age_std)\n",
        "total_rooms_std = np.std(data['total_rooms'])\n",
        "print(\"Total Rooms Standard Deviation:\", total_rooms_std)\n",
        "total_bedrooms_std = np.std(data['total_bedrooms'])\n",
        "print(\"Total Bedrooms Standard Deviation:\", total_bedrooms_std)\n",
        "population_std = np.std(data['population'])\n",
        "print(\"Population Standard Deviation:\", population_std)\n",
        "households_std = np.std(data['households'])\n",
        "print(\"Households Standard Deviation:\", households_std)\n",
        "median_income_std = np.std(data['median_income'])\n",
        "print(\"Median Income Standard Deviation:\", median_income_std)\n",
        "median_house_value_std = np.std(data['median_house_value'])\n",
        "print(\"Median House Value Standard Deviation:\", median_house_value_std)"
      ],
      "metadata": {
        "colab": {
          "base_uri": "https://localhost:8080/"
        },
        "id": "vtFYbiwMlXfs",
        "outputId": "9d9bfc7a-bdbb-403f-d7b4-b1cdcd34de2e"
      },
      "execution_count": null,
      "outputs": [
        {
          "output_type": "stream",
          "name": "stdout",
          "text": [
            "Longitude Standard Deviation: 1.9946037768606244\n",
            "Latitude Standard Deviation: 2.1293145488396026\n",
            "Housing Median Age Standard Deviation: 12.553302814620363\n",
            "Total Rooms Standard Deviation: 2155.2340361265233\n",
            "Total Bedrooms Standard Deviation: 415.58508663436044\n",
            "Population Standard Deviation: 1030.3712409280238\n",
            "Households Standard Deviation: 365.3618009443972\n",
            "Median Income Standard Deviation: 1.854202618641796\n",
            "Median House Value Standard Deviation: 113100.83261703266\n"
          ]
        }
      ]
    },
    {
      "cell_type": "markdown",
      "source": [
        "Range"
      ],
      "metadata": {
        "id": "cLa5kg8Illn4"
      }
    },
    {
      "cell_type": "code",
      "source": [
        "lg_range = np.max(data['longitude']) - np.min(data['longitude'])\n",
        "print(\"Longitude Range:\", lg_range)\n",
        "lat_range = np.max(data['latitude']) - np.min(data['latitude'])\n",
        "print(\"Latitude Range:\", lat_range)\n",
        "housing_median_age_range = np.max(data['housing_median_age']) - np.min(data['housing_median_age'])\n",
        "print(\"Housing Median Age Range:\", housing_median_age_range)\n",
        "total_rooms_range = np.max(data['total_rooms']) - np.min(data['total_rooms'])\n",
        "print(\"Total Rooms Range:\", total_rooms_range)\n",
        "total_bedrooms_range = np.max(data['total_bedrooms']) - np.min(data['total_bedrooms'])\n",
        "print(\"Total Bedrooms Range:\", total_bedrooms_range)\n",
        "population_range = np.max(data['population']) - np.min(data['population'])\n",
        "print(\"Population Range:\", population_range)\n",
        "households_range = np.max(data['households']) - np.min(data['households'])\n",
        "print(\"Households Range:\", households_range)\n",
        "median_income_range = np.max(data['median_income']) - np.min(data['median_income'])\n",
        "print(\"Median Income Range:\", median_income_range)\n",
        "median_house_value_range = np.max(data['median_house_value']) - np.min(data['median_house_value'])\n",
        "print(\"Median House Value Range:\", median_house_value_range)"
      ],
      "metadata": {
        "colab": {
          "base_uri": "https://localhost:8080/"
        },
        "id": "S2oS3yOslnSG",
        "outputId": "f6bd8c53-bce8-4fae-e90d-11d66b79ba7c"
      },
      "execution_count": null,
      "outputs": [
        {
          "output_type": "stream",
          "name": "stdout",
          "text": [
            "Longitude Range: 9.690000000000012\n",
            "Latitude Range: 9.36\n",
            "Housing Median Age Range: 51.0\n",
            "Total Rooms Range: 30444.0\n",
            "Total Bedrooms Range: 5417.0\n",
            "Population Range: 11930.0\n",
            "Households Range: 4928.0\n",
            "Median Income Range: 14.5002\n",
            "Median House Value Range: 477501.0\n"
          ]
        }
      ]
    },
    {
      "cell_type": "markdown",
      "source": [
        "IQR"
      ],
      "metadata": {
        "id": "IpKAHaSultLf"
      }
    },
    {
      "cell_type": "code",
      "source": [
        "lg_IQR = stats.iqr(data['longitude'])\n",
        "print(\"Longitude IQR:\", lg_IQR)\n",
        "lat_IQR = stats.iqr(data['latitude'])\n",
        "print(\"Latitude IQR:\", lat_IQR)\n",
        "housing_median_age_IQR = stats.iqr(data['housing_median_age'])\n",
        "print(\"Housing Median Age IQR:\", housing_median_age_IQR)\n",
        "total_rooms_IQR = stats.iqr(data['total_rooms'])\n",
        "print(\"Total Rooms IQR:\", total_rooms_IQR)\n",
        "total_bedrooms_IQR = stats.iqr(data['total_bedrooms'])\n",
        "print(\"Total Bedrooms IQR:\", total_bedrooms_IQR)\n",
        "population_IQR = stats.iqr(data['population'])\n",
        "print(\"Population IQR:\", population_IQR)\n",
        "households_IQR = stats.iqr(data['households'])\n",
        "print(\"Households IQR:\", households_IQR)\n",
        "median_income_IQR = stats.iqr(data['median_income'])\n",
        "print(\"Median Income IQR:\", median_income_IQR)\n",
        "median_house_value_IQR = stats.iqr(data['median_house_value'])\n",
        "print(\"Median House Value IQR:\", median_house_value_IQR)"
      ],
      "metadata": {
        "colab": {
          "base_uri": "https://localhost:8080/"
        },
        "id": "Svy7yiZVlz8Q",
        "outputId": "0a94d4c3-f0fa-4219-b4d3-cfe0f20782fa"
      },
      "execution_count": null,
      "outputs": [
        {
          "output_type": "stream",
          "name": "stdout",
          "text": [
            "Longitude IQR: 3.7900000000000063\n",
            "Latitude IQR: 3.759999999999998\n",
            "Housing Median Age IQR: 19.0\n",
            "Total Rooms IQR: 1728.0\n",
            "Total Bedrooms IQR: 345.0\n",
            "Population IQR: 962.75\n",
            "Households IQR: 324.25\n",
            "Median Income IQR: 2.112475\n",
            "Median House Value IQR: 142775.0\n"
          ]
        }
      ]
    },
    {
      "cell_type": "markdown",
      "source": [
        "Skewness"
      ],
      "metadata": {
        "id": "bIxfX7M1l-vK"
      }
    },
    {
      "cell_type": "code",
      "source": [
        "lg_skew = stats.skew(data['longitude'])\n",
        "print(\"Longitude Skewness:\", lg_skew)\n",
        "lat_skew = stats.skew(data['latitude'])\n",
        "print(\"Latitude Skewness:\", lat_skew)\n",
        "housing_median_age_skew = stats.skew(data['housing_median_age'])\n",
        "print(\"Housing Median Age Skewness:\", housing_median_age_skew)\n",
        "total_rooms_skew = stats.skew(data['total_rooms'])\n",
        "print(\"Total Rooms Skewness:\", total_rooms_skew)\n",
        "total_bedrooms_skew = stats.skew(data['total_bedrooms'])\n",
        "print(\"Total Bedrooms Skewness:\", total_bedrooms_skew)\n",
        "population_skew = stats.skew(data['population'])\n",
        "print(\"Population Skewness:\", population_skew)\n",
        "households_skew = stats.skew(data['households'])\n",
        "print(\"Households Skewness:\", households_skew)\n",
        "median_income_skew = stats.skew(data['median_income'])\n",
        "print(\"Median Income Skewness:\", median_income_skew)\n",
        "median_house_value_skew = stats.skew(data['median_house_value'])\n",
        "print(\"Median House Value Skewness:\", median_house_value_skew)"
      ],
      "metadata": {
        "colab": {
          "base_uri": "https://localhost:8080/"
        },
        "id": "HNqkB0GqmE6t",
        "outputId": "19e673fc-fa3a-483a-9a12-030b14095e0d"
      },
      "execution_count": null,
      "outputs": [
        {
          "output_type": "stream",
          "name": "stdout",
          "text": [
            "Longitude Skewness: -0.29770868312210047\n",
            "Latitude Skewness: 0.45958599688301055\n",
            "Housing Median Age Skewness: 0.01850386331347812\n",
            "Total Rooms Skewness: 4.165553250335494\n",
            "Total Bedrooms Skewness: 3.861461224097534\n",
            "Population Skewness: 2.9481956505974214\n",
            "Households Skewness: 3.5579732876776733\n",
            "Median Income Skewness: 1.697662360984838\n",
            "Median House Value Skewness: 0.9890670635093471\n"
          ]
        }
      ]
    },
    {
      "cell_type": "markdown",
      "source": [
        "Kurtosis"
      ],
      "metadata": {
        "id": "-KYXltsdmMbt"
      }
    },
    {
      "cell_type": "code",
      "source": [
        "lg_kurtosis = stats.kurtosis(data['longitude'])\n",
        "print(\"Longitude Kurtosis:\", lg_kurtosis)\n",
        "lat_kurtosis = stats.kurtosis(data['latitude'])\n",
        "print(\"Latitude Kurtosis:\", lat_kurtosis)\n",
        "housing_median_age_kurtosis = stats.kurtosis(data['housing_median_age'])\n",
        "print(\"Housing Median Age Kurtosis:\", housing_median_age_kurtosis)\n",
        "total_rooms_kurtosis = stats.kurtosis(data['total_rooms'])\n",
        "print(\"Total Rooms Kurtosis:\", total_rooms_kurtosis)\n",
        "total_bedrooms_kurtosis = stats.kurtosis(data['total_bedrooms'])\n",
        "print(\"Total Bedrooms Kurtosis:\", total_bedrooms_kurtosis)\n",
        "population_kurtosis = stats.kurtosis(data['population'])\n",
        "print(\"Population Kurtosis:\", population_kurtosis)\n",
        "households_kurtosis = stats.kurtosis(data['households'])\n",
        "print(\"Households Kurtosis:\", households_kurtosis)\n",
        "median_income_kurtosis = stats.kurtosis(data['median_income'])\n",
        "print(\"Median Income Kurtosis:\", median_income_kurtosis)\n",
        "median_house_value_kurtosis = stats.kurtosis(data['median_house_value'])\n",
        "print(\"Median House Value Kurtosis:\", median_house_value_kurtosis)"
      ],
      "metadata": {
        "colab": {
          "base_uri": "https://localhost:8080/"
        },
        "id": "_oLwC7A2mNQk",
        "outputId": "a0bb9d78-4ed3-4034-d27b-74d605f72a4c"
      },
      "execution_count": null,
      "outputs": [
        {
          "output_type": "stream",
          "name": "stdout",
          "text": [
            "Longitude Kurtosis: -1.3625007669256197\n",
            "Latitude Kurtosis: -1.1244987241902247\n",
            "Housing Median Age Kurtosis: -0.8044440474433037\n",
            "Total Rooms Kurtosis: 32.044466669077906\n",
            "Total Bedrooms Kurtosis: 28.48753189248459\n",
            "Population Kurtosis: 16.41387618265221\n",
            "Households Kurtosis: 26.18366680809118\n",
            "Median Income Kurtosis: 5.614812216724314\n",
            "Median House Value Kurtosis: 0.3927409720063544\n"
          ]
        }
      ]
    }
  ]
}