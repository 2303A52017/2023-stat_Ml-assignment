{
  "nbformat": 4,
  "nbformat_minor": 0,
  "metadata": {
    "colab": {
      "provenance": []
    },
    "kernelspec": {
      "name": "python3",
      "display_name": "Python 3"
    },
    "language_info": {
      "name": "python"
    }
  },
  "cells": [
    {
      "cell_type": "markdown",
      "source": [
        "Question 1:\n",
        "\n",
        "Find out the maximum likelihood parameters values for california_housing [‘latiyude’,total_rooms’,’house_median_age’,’total_bedrooms’] data, each column individually."
      ],
      "metadata": {
        "id": "u0HkcL1TVHmB"
      }
    },
    {
      "cell_type": "code",
      "source": [
        "import pandas as pd\n",
        "import numpy as np\n",
        "a=pd.read_csv('/content/california_housing_test.csv')\n",
        "print(a)"
      ],
      "metadata": {
        "colab": {
          "base_uri": "https://localhost:8080/"
        },
        "id": "y_xl1QmIVI-z",
        "outputId": "58d86ace-6070-4a5d-8d00-0fb7421ae43f"
      },
      "execution_count": null,
      "outputs": [
        {
          "output_type": "stream",
          "name": "stdout",
          "text": [
            "      longitude  latitude  housing_median_age  total_rooms  total_bedrooms  \\\n",
            "0       -122.05     37.37                27.0       3885.0           661.0   \n",
            "1       -118.30     34.26                43.0       1510.0           310.0   \n",
            "2       -117.81     33.78                27.0       3589.0           507.0   \n",
            "3       -118.36     33.82                28.0         67.0            15.0   \n",
            "4       -119.67     36.33                19.0       1241.0           244.0   \n",
            "...         ...       ...                 ...          ...             ...   \n",
            "2995    -119.86     34.42                23.0       1450.0           642.0   \n",
            "2996    -118.14     34.06                27.0       5257.0          1082.0   \n",
            "2997    -119.70     36.30                10.0        956.0           201.0   \n",
            "2998    -117.12     34.10                40.0         96.0            14.0   \n",
            "2999    -119.63     34.42                42.0       1765.0           263.0   \n",
            "\n",
            "      population  households  median_income  median_house_value  \n",
            "0         1537.0       606.0         6.6085            344700.0  \n",
            "1          809.0       277.0         3.5990            176500.0  \n",
            "2         1484.0       495.0         5.7934            270500.0  \n",
            "3           49.0        11.0         6.1359            330000.0  \n",
            "4          850.0       237.0         2.9375             81700.0  \n",
            "...          ...         ...            ...                 ...  \n",
            "2995      1258.0       607.0         1.1790            225000.0  \n",
            "2996      3496.0      1036.0         3.3906            237200.0  \n",
            "2997       693.0       220.0         2.2895             62000.0  \n",
            "2998        46.0        14.0         3.2708            162500.0  \n",
            "2999       753.0       260.0         8.5608            500001.0  \n",
            "\n",
            "[3000 rows x 9 columns]\n"
          ]
        }
      ]
    },
    {
      "cell_type": "code",
      "source": [
        "columns = ['latitude','total_rooms','housing_median_age','total_bedroom']\n",
        "m1 = a['latitude'].mean()\n",
        "print(\"Mean of latitude :\",m1)\n",
        "print(\"Mean of total rooms :\",a['total_rooms'].mean())\n",
        "print(\"Mean of house median age :\",a['housing_median_age'].mean())\n",
        "print(\"Mean of total bedrooms :\",a['total_bedrooms'].mean())"
      ],
      "metadata": {
        "colab": {
          "base_uri": "https://localhost:8080/"
        },
        "id": "3C7mk_PyWiGt",
        "outputId": "63bc59db-7473-4e48-dd25-2e49a339ce02"
      },
      "execution_count": null,
      "outputs": [
        {
          "output_type": "stream",
          "name": "stdout",
          "text": [
            "Mean of latitude : 35.635389999999994\n",
            "Mean of total rooms : 2599.578666666667\n",
            "Mean of house median age : 28.845333333333333\n",
            "Mean of total bedrooms : 529.9506666666666\n"
          ]
        }
      ]
    },
    {
      "cell_type": "code",
      "source": [
        "print(\"Standard deviation of each column:\",a.std())"
      ],
      "metadata": {
        "colab": {
          "base_uri": "https://localhost:8080/"
        },
        "id": "0HC0pkJ2qJvV",
        "outputId": "e5b526a1-ec4f-4724-e56b-6e5ecee73e0d"
      },
      "execution_count": null,
      "outputs": [
        {
          "output_type": "stream",
          "name": "stdout",
          "text": [
            "Standard deviation of each column: longitude                  1.994936\n",
            "latitude                   2.129670\n",
            "housing_median_age        12.555396\n",
            "total_rooms             2155.593332\n",
            "total_bedrooms           415.654368\n",
            "population              1030.543012\n",
            "households               365.422710\n",
            "median_income              1.854512\n",
            "median_house_value    113119.687470\n",
            "dtype: float64\n"
          ]
        }
      ]
    },
    {
      "cell_type": "code",
      "source": [
        "v1 =a['latitude'].std()\n",
        "print(\"Standard deviation of total rooms:\",a['total_rooms'].std())\n",
        "print(\"Standard deviation of latitude:\",v1)\n",
        "print(\"Standard deviation of house median age:\",a['housing_median_age'].std())\n",
        "print(\"Standard deviation of total bedrooms:\",a['total_bedrooms'].std())"
      ],
      "metadata": {
        "colab": {
          "base_uri": "https://localhost:8080/"
        },
        "id": "oPAKbHc2u_3W",
        "outputId": "83296878-d934-4219-a76e-ed97d8b4fb9a"
      },
      "execution_count": null,
      "outputs": [
        {
          "output_type": "stream",
          "name": "stdout",
          "text": [
            "Standard deviation of total rooms: 2155.593331625581\n",
            "Standard deviation of latitude: 2.129669523343834\n",
            "Standard deviation of house median age: 12.555395554955753\n",
            "Standard deviation of total bedrooms: 415.6543681363229\n"
          ]
        }
      ]
    },
    {
      "cell_type": "markdown",
      "source": [
        "maximum likelihood Estimation\n",
        "\n",
        "Latitude"
      ],
      "metadata": {
        "id": "yN85yGtFqv_O"
      }
    },
    {
      "cell_type": "code",
      "source": [
        "x = np.mean(a['latitude'])\n",
        "print(\"Maximum Likelihood Estimation of latitude:\")\n",
        "print(\" \")\n",
        "a['result'] = (1/np.sqrt(2*np.pi*np.mean(a['latitude']**2)))*np.log(((x-np.std(a['latitude']))**2)/(2*np.mean(a['latitude'])))\n",
        "print(a[['latitude','result']])"
      ],
      "metadata": {
        "colab": {
          "base_uri": "https://localhost:8080/"
        },
        "id": "cwnBfZihrmiq",
        "outputId": "d4fe7208-324a-4e28-9c8b-9cc80e89a8be"
      },
      "execution_count": null,
      "outputs": [
        {
          "output_type": "stream",
          "name": "stdout",
          "text": [
            "Maximum Likelihood Estimation of latitude:\n",
            " \n",
            "      latitude   result\n",
            "0        37.37  0.03081\n",
            "1        34.26  0.03081\n",
            "2        33.78  0.03081\n",
            "3        33.82  0.03081\n",
            "4        36.33  0.03081\n",
            "...        ...      ...\n",
            "2995     34.42  0.03081\n",
            "2996     34.06  0.03081\n",
            "2997     36.30  0.03081\n",
            "2998     34.10  0.03081\n",
            "2999     34.42  0.03081\n",
            "\n",
            "[3000 rows x 2 columns]\n"
          ]
        }
      ]
    },
    {
      "cell_type": "code",
      "source": [
        "print(\"Maximum Likelihood Estimation of total_rooms:\")\n",
        "print(\" \")\n",
        "a['result'] = (1/np.sqrt(2*np.pi*np.mean(a['total_rooms']**2)))*np.log(((x-np.std(a['total_rooms']))**2)/(2*np.mean(a['total_rooms'])))\n",
        "print(a[['total_rooms','result']])"
      ],
      "metadata": {
        "colab": {
          "base_uri": "https://localhost:8080/"
        },
        "id": "OixtITB-yIlK",
        "outputId": "d1769d1c-125a-42e1-fd18-e9ed31cc6167"
      },
      "execution_count": null,
      "outputs": [
        {
          "output_type": "stream",
          "name": "stdout",
          "text": [
            "Maximum Likelihood Estimation of total_rooms:\n",
            " \n",
            "      total_rooms    result\n",
            "0          3885.0  0.000799\n",
            "1          1510.0  0.000799\n",
            "2          3589.0  0.000799\n",
            "3            67.0  0.000799\n",
            "4          1241.0  0.000799\n",
            "...           ...       ...\n",
            "2995       1450.0  0.000799\n",
            "2996       5257.0  0.000799\n",
            "2997        956.0  0.000799\n",
            "2998         96.0  0.000799\n",
            "2999       1765.0  0.000799\n",
            "\n",
            "[3000 rows x 2 columns]\n"
          ]
        }
      ]
    },
    {
      "cell_type": "code",
      "source": [
        "print(\"Maximum Likelihood Estimation of house median age:\")\n",
        "print(\" \")\n",
        "a['result'] = (1/np.sqrt(2*np.pi*np.mean(a['housing_median_age']**2)))*np.log(((x-np.std(a['housing_median_age']))**2)/(2*np.mean(a['housing_median_age'])))\n",
        "print(a[['housing_median_age','result']])"
      ],
      "metadata": {
        "colab": {
          "base_uri": "https://localhost:8080/"
        },
        "id": "UGagdB5wzKRY",
        "outputId": "3edb351a-2e04-4d7c-e411-5e1dbe862e59"
      },
      "execution_count": null,
      "outputs": [
        {
          "output_type": "stream",
          "name": "stdout",
          "text": [
            "Maximum Likelihood Estimation of house median age:\n",
            " \n",
            "      housing_median_age    result\n",
            "0                   27.0  0.028191\n",
            "1                   43.0  0.028191\n",
            "2                   27.0  0.028191\n",
            "3                   28.0  0.028191\n",
            "4                   19.0  0.028191\n",
            "...                  ...       ...\n",
            "2995                23.0  0.028191\n",
            "2996                27.0  0.028191\n",
            "2997                10.0  0.028191\n",
            "2998                40.0  0.028191\n",
            "2999                42.0  0.028191\n",
            "\n",
            "[3000 rows x 2 columns]\n"
          ]
        }
      ]
    },
    {
      "cell_type": "markdown",
      "source": [
        "Question 2:\n",
        "\n",
        "Find log-likelihood values for 50, 75, and 80. For California_housing [‘latitude’] and find the Max likelihood values.\n"
      ],
      "metadata": {
        "id": "cZSwcl6J0dT8"
      }
    },
    {
      "cell_type": "code",
      "source": [
        "import numpy as np\n",
        "import pandas as pd\n",
        "import matplotlib.pyplot as plt\n",
        "data = pd.read_csv('/content/california_housing_test.csv')\n",
        "\n"
      ],
      "metadata": {
        "id": "BQn_hdjN0fw9"
      },
      "execution_count": 10,
      "outputs": []
    },
    {
      "cell_type": "code",
      "source": [
        "lat_mean = np.mean(data['latitude'])\n",
        "print(\"Latitude mean:\", lat_mean)\n"
      ],
      "metadata": {
        "id": "QtM7o_Pu6Vet",
        "outputId": "9e9b9617-876f-4503-8c1e-dc1fe4aa5bcd",
        "colab": {
          "base_uri": "https://localhost:8080/"
        }
      },
      "execution_count": 11,
      "outputs": [
        {
          "output_type": "stream",
          "name": "stdout",
          "text": [
            "Latitude mean: 35.635389999999994\n"
          ]
        }
      ]
    },
    {
      "cell_type": "code",
      "source": [
        "lat_variance=np.var(data['latitude'])\n",
        "print(\"Latitude variance:\", lat_variance)\n"
      ],
      "metadata": {
        "colab": {
          "base_uri": "https://localhost:8080/"
        },
        "id": "TKPqINuk9LYV",
        "outputId": "7e2e2535-b6e9-4c73-d3a5-1d15023a62b8"
      },
      "execution_count": 12,
      "outputs": [
        {
          "output_type": "stream",
          "name": "stdout",
          "text": [
            "Latitude variance: 4.5339804479\n"
          ]
        }
      ]
    },
    {
      "cell_type": "code",
      "source": [
        "x1=50\n",
        "x2=75\n",
        "x3=80\n",
        "\n"
      ],
      "metadata": {
        "id": "gYqRvbJs9QIt"
      },
      "execution_count": 13,
      "outputs": []
    },
    {
      "cell_type": "code",
      "source": [
        "# loglikelihood\n",
        "loglikelihood1= np.log(1/(2*np.pi*lat_variance)*0.5*np.exp(-(x1-lat_mean)*2/(2*lat_variance)))\n",
        "print(\"likelihood value for x1 is:\", loglikelihood1)\n",
        "loglikelihood2= np.log(1/(2*np.pi*lat_variance)*0.5*np.exp(-(x2-lat_mean)*2/(2*lat_variance)))\n",
        "print(\"likelihood value for x2 is:\", loglikelihood2)\n",
        "loglikelihood3= np.log(1/(2*np.pi*lat_variance)*0.5*np.exp(-(x3-lat_mean)*2/(2*lat_variance)))\n",
        "print(\"likelihood value for x3 is:\", loglikelihood3)\n",
        "\n"
      ],
      "metadata": {
        "colab": {
          "base_uri": "https://localhost:8080/"
        },
        "id": "PHeb8DH49YJ1",
        "outputId": "76634d04-29a5-4d98-9aa0-127c789c3157"
      },
      "execution_count": 14,
      "outputs": [
        {
          "output_type": "stream",
          "name": "stdout",
          "text": [
            "likelihood value for x1 is: -7.210836208196721\n",
            "likelihood value for x2 is: -12.724755001467923\n",
            "likelihood value for x3 is: -13.827538760122165\n"
          ]
        }
      ]
    },
    {
      "cell_type": "code",
      "source": [
        "# MLE\n",
        "MLE1=1/(2*np.pi*lat_variance)*0.5*np.exp(-(x1-lat_mean)*2/(2*lat_variance))\n",
        "print(\"Maximum Likelihood Estimation of x1 is:\", MLE1)\n",
        "MLE2=1/(2*np.pi*lat_variance)*0.5*np.exp(-(x2-lat_mean)*2/(2*lat_variance))\n",
        "print(\"Maximum Likelihood Estimation of x2 is:\", MLE2)\n",
        "MLE3=1/(2*np.pi*lat_variance)*0.5*np.exp(-(x3-lat_mean)*2/(2*lat_variance))\n",
        "print(\"Maximum Likelihood Estimation of x3 is:\", MLE3)"
      ],
      "metadata": {
        "colab": {
          "base_uri": "https://localhost:8080/"
        },
        "id": "YTzqHeVT9f4m",
        "outputId": "c3bd8ebb-5542-4ce5-b7c6-1759532b123e"
      },
      "execution_count": 15,
      "outputs": [
        {
          "output_type": "stream",
          "name": "stdout",
          "text": [
            "Maximum Likelihood Estimation of x1 is: 0.0007385393245443973\n",
            "Maximum Likelihood Estimation of x2 is: 2.976522153829775e-06\n",
            "Maximum Likelihood Estimation of x3 is: 9.8804384750041e-07\n"
          ]
        }
      ]
    },
    {
      "cell_type": "markdown",
      "source": [
        "Question 3 : Estimate the density of each column of california_housing [‘latitude’,total_rooms’,’house_median_age’,’total_bedrooms’] data, For the bins [5, 10, 15, 20]. And write the observations."
      ],
      "metadata": {
        "id": "CibiYxX39mHE"
      }
    },
    {
      "cell_type": "code",
      "source": [
        "import numpy as np\n",
        "import pandas as pd\n",
        "import matplotlib.pyplot as plt\n"
      ],
      "metadata": {
        "id": "CBJhk1g_9ngG"
      },
      "execution_count": 18,
      "outputs": []
    },
    {
      "cell_type": "code",
      "source": [
        "data=pd.read_csv('/content/california_housing_test.csv')\n",
        "bins = [5, 10, 15, 20]\n",
        "\n"
      ],
      "metadata": {
        "id": "O8kUhO1P92Hi"
      },
      "execution_count": 19,
      "outputs": []
    },
    {
      "cell_type": "code",
      "source": [
        "def calculate_density(data, bins):\n",
        "    counts, _ = np.histogram(data, bins=bins)\n",
        "    total = len(data)\n",
        "    density = counts / total\n",
        "    return density\n",
        "\n"
      ],
      "metadata": {
        "id": "OSTnvw-B9_OE"
      },
      "execution_count": 21,
      "outputs": []
    },
    {
      "cell_type": "code",
      "source": [
        "density_results = {}\n",
        "\n"
      ],
      "metadata": {
        "id": "pR9_gZLQ-Gld"
      },
      "execution_count": 35,
      "outputs": []
    },
    {
      "cell_type": "code",
      "source": [
        "for column in ['latitude', 'total_rooms', 'housing_median_age', 'total_bedrooms']:\n",
        "    column_data = data[column].dropna()\n",
        "\n",
        "    density = calculate_density(column_data, bins)\n",
        "    density_results[column] = density\n",
        "\n",
        "    plt.hist(column_data, bins=bins, density=True, alpha=0.6, color='g')\n",
        "    plt.title(f'Density Estimation of {column}')\n",
        "    plt.xlabel(column)\n",
        "    plt.ylabel('Density')\n",
        "    plt.show()\n"
      ],
      "metadata": {
        "colab": {
          "base_uri": "https://localhost:8080/",
          "height": 1000
        },
        "id": "KfO0YXWH-8IO",
        "outputId": "5917370d-f9e1-4f2b-c7f1-93a3d390a2ec"
      },
      "execution_count": 37,
      "outputs": [
        {
          "output_type": "display_data",
          "data": {
            "text/plain": [
              "<Figure size 640x480 with 1 Axes>"
            ],
            "image/png": "[encoded data removed]"
          },
          "metadata": {}
        },
        {
          "output_type": "display_data",
          "data": {
            "text/plain": [
              "<Figure size 640x480 with 1 Axes>"
            ],
            "image/png": "[encoded data removed]"
          },
          "metadata": {}
        },
        {
          "output_type": "display_data",
          "data": {
            "text/plain": [
              "<Figure size 640x480 with 1 Axes>"
            ],
            "image/png": "[encoded data removed]"
          },
          "metadata": {}
        },
        {
          "output_type": "display_data",
          "data": {
            "text/plain": [
              "<Figure size 640x480 with 1 Axes>"
            ],
            "image/png": "[encoded data removed]"
          },
          "metadata": {}
        }
      ]
    },
    {
      "cell_type": "code",
      "source": [
        "density_results"
      ],
      "metadata": {
        "colab": {
          "base_uri": "https://localhost:8080/"
        },
        "id": "sjoaiJQJ_BQm",
        "outputId": "c8692d12-c578-4618-a2fe-6633939479db"
      },
      "execution_count": 34,
      "outputs": [
        {
          "output_type": "execute_result",
          "data": {
            "text/plain": [
              "{'total_bedrooms': array([0.00266667, 0.002     , 0.00333333]),\n",
              " 'latitude': array([0., 0., 0.]),\n",
              " 'total_rooms': array([0.00033333, 0.        , 0.001     ]),\n",
              " 'housing_median_age': array([0.04533333, 0.07      , 0.16633333])}"
            ]
          },
          "metadata": {},
          "execution_count": 34
        }
      ]
    }
  ]
}