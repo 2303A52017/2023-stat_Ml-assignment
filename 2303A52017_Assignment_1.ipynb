{
  "nbformat": 4,
  "nbformat_minor": 0,
  "metadata": {
    "colab": {
      "provenance": []
    },
    "kernelspec": {
      "name": "python3",
      "display_name": "Python 3"
    },
    "language_info": {
      "name": "python"
    }
  },
  "cells": [
    {
      "cell_type": "code",
      "source": [
        "a=[2,1,6,8,9,5]\n",
        "b=[2,9,11,4,6,8]\n"
      ],
      "metadata": {
        "id": "bbR3XSnTM_1d"
      },
      "execution_count": 5,
      "outputs": []
    },
    {
      "cell_type": "code",
      "source": [
        "import numpy as np"
      ],
      "metadata": {
        "id": "s5vUYmI9Ocjj"
      },
      "execution_count": 7,
      "outputs": []
    },
    {
      "cell_type": "code",
      "source": [
        "a=np.array(a)\n",
        "b=np.array(b)\n",
        "print(a+b)"
      ],
      "metadata": {
        "colab": {
          "base_uri": "https://localhost:8080/"
        },
        "id": "VFBw9eFoOke0",
        "outputId": "e9336f5d-3bc0-464c-ce18-0813fb7fb518"
      },
      "execution_count": 8,
      "outputs": [
        {
          "output_type": "stream",
          "name": "stdout",
          "text": [
            "[ 4 10 17 12 15 13]\n"
          ]
        }
      ]
    },
    {
      "cell_type": "code",
      "source": [
        "print (np.mean(a))"
      ],
      "metadata": {
        "colab": {
          "base_uri": "https://localhost:8080/"
        },
        "id": "IYyIINOWOz5A",
        "outputId": "a44656ed-523c-42fb-aff2-a2efe06c4782"
      },
      "execution_count": 9,
      "outputs": [
        {
          "output_type": "stream",
          "name": "stdout",
          "text": [
            "5.166666666666667\n"
          ]
        }
      ]
    },
    {
      "cell_type": "code",
      "source": [
        "print (np.mean(b))"
      ],
      "metadata": {
        "colab": {
          "base_uri": "https://localhost:8080/"
        },
        "id": "gKPUv27-PClo",
        "outputId": "e17bd909-8a09-47c7-b2f9-79b6514e92a1"
      },
      "execution_count": 10,
      "outputs": [
        {
          "output_type": "stream",
          "name": "stdout",
          "text": [
            "6.666666666666667\n"
          ]
        }
      ]
    },
    {
      "cell_type": "code",
      "source": [
        "print(np.var(a))"
      ],
      "metadata": {
        "colab": {
          "base_uri": "https://localhost:8080/"
        },
        "id": "zHrY7lvLPKwE",
        "outputId": "fa79cc67-e131-4f83-ae87-c73d1b6d86ef"
      },
      "execution_count": 11,
      "outputs": [
        {
          "output_type": "stream",
          "name": "stdout",
          "text": [
            "8.472222222222223\n"
          ]
        }
      ]
    },
    {
      "cell_type": "code",
      "source": [
        "print(np.var(b))"
      ],
      "metadata": {
        "colab": {
          "base_uri": "https://localhost:8080/"
        },
        "id": "f_W59ovVPSIM",
        "outputId": "264349c6-8ba2-4455-8bdc-8f19848efacc"
      },
      "execution_count": 12,
      "outputs": [
        {
          "output_type": "stream",
          "name": "stdout",
          "text": [
            "9.222222222222223\n"
          ]
        }
      ]
    },
    {
      "cell_type": "code",
      "source": [
        "print (np.average(a))"
      ],
      "metadata": {
        "colab": {
          "base_uri": "https://localhost:8080/"
        },
        "id": "xHEgwbAFPYMu",
        "outputId": "c9507dc6-bdc1-4e1e-818e-097cdc599cc6"
      },
      "execution_count": 14,
      "outputs": [
        {
          "output_type": "stream",
          "name": "stdout",
          "text": [
            "5.166666666666667\n"
          ]
        }
      ]
    },
    {
      "cell_type": "code",
      "source": [
        "print (np.average(b))"
      ],
      "metadata": {
        "colab": {
          "base_uri": "https://localhost:8080/"
        },
        "id": "1jWSXvh8Pk_t",
        "outputId": "647107be-7e4c-4b03-95de-b47d41c05773"
      },
      "execution_count": 15,
      "outputs": [
        {
          "output_type": "stream",
          "name": "stdout",
          "text": [
            "6.666666666666667\n"
          ]
        }
      ]
    },
    {
      "cell_type": "code",
      "source": [
        "print (np.std(a))"
      ],
      "metadata": {
        "colab": {
          "base_uri": "https://localhost:8080/"
        },
        "id": "JVdxYZJTPr2y",
        "outputId": "1f52b714-82c8-414c-866e-b5a102d47c9c"
      },
      "execution_count": 16,
      "outputs": [
        {
          "output_type": "stream",
          "name": "stdout",
          "text": [
            "2.9107081994288304\n"
          ]
        }
      ]
    },
    {
      "cell_type": "code",
      "source": [
        "print (np.std(b))"
      ],
      "metadata": {
        "colab": {
          "base_uri": "https://localhost:8080/"
        },
        "id": "vN85GZrMP_Z0",
        "outputId": "43345e22-0d78-4053-feaa-df513579d05d"
      },
      "execution_count": 17,
      "outputs": [
        {
          "output_type": "stream",
          "name": "stdout",
          "text": [
            "3.0368111930481\n"
          ]
        }
      ]
    },
    {
      "cell_type": "code",
      "source": [
        "print (np.max(a)-np.min(a))"
      ],
      "metadata": {
        "colab": {
          "base_uri": "https://localhost:8080/"
        },
        "id": "ASK7oINnQGko",
        "outputId": "f2e1c710-8426-4a53-81cc-2fa0c7f041bb"
      },
      "execution_count": 20,
      "outputs": [
        {
          "output_type": "stream",
          "name": "stdout",
          "text": [
            "8\n"
          ]
        }
      ]
    },
    {
      "cell_type": "code",
      "source": [
        "print (np.max(b)- np.min(b))"
      ],
      "metadata": {
        "colab": {
          "base_uri": "https://localhost:8080/"
        },
        "id": "zYyvt2B_QUGy",
        "outputId": "f7cc991d-dcd1-4f20-9f51-b35ffeb54ede"
      },
      "execution_count": 21,
      "outputs": [
        {
          "output_type": "stream",
          "name": "stdout",
          "text": [
            "9\n"
          ]
        }
      ]
    },
    {
      "cell_type": "code",
      "source": [
        "l=[[2,3,4],[4,5,6],[6,7,8]]\n",
        "print(l)"
      ],
      "metadata": {
        "colab": {
          "base_uri": "https://localhost:8080/"
        },
        "id": "MIBmth4IQmy2",
        "outputId": "a1161e15-f5cb-4acc-fa26-4056fee8d345"
      },
      "execution_count": 23,
      "outputs": [
        {
          "output_type": "stream",
          "name": "stdout",
          "text": [
            "[[2, 3, 4], [4, 5, 6], [6, 7, 8]]\n"
          ]
        }
      ]
    },
    {
      "cell_type": "code",
      "source": [
        "l=np.array(l)\n"
      ],
      "metadata": {
        "id": "Q5995UzYRZUJ"
      },
      "execution_count": 24,
      "outputs": []
    },
    {
      "cell_type": "code",
      "source": [
        "print(l)"
      ],
      "metadata": {
        "colab": {
          "base_uri": "https://localhost:8080/"
        },
        "id": "6f1AxSg5RhTF",
        "outputId": "1d38f829-1964-412f-b8ca-44f2a9297a68"
      },
      "execution_count": 25,
      "outputs": [
        {
          "output_type": "stream",
          "name": "stdout",
          "text": [
            "[[2 3 4]\n",
            " [4 5 6]\n",
            " [6 7 8]]\n"
          ]
        }
      ]
    },
    {
      "cell_type": "code",
      "source": [
        "A=[[1,2,3],[3,4,5],[5,6,7]]\n",
        "L=[[7,6,5],[5,4,3],[3,2,1]]\n",
        "print(A+L)"
      ],
      "metadata": {
        "colab": {
          "base_uri": "https://localhost:8080/"
        },
        "id": "hTZ8HhthRo1p",
        "outputId": "67220ca5-bcb0-4bfb-bf2f-bf132b85c20e"
      },
      "execution_count": 26,
      "outputs": [
        {
          "output_type": "stream",
          "name": "stdout",
          "text": [
            "[[1, 2, 3], [3, 4, 5], [5, 6, 7], [7, 6, 5], [5, 4, 3], [3, 2, 1]]\n"
          ]
        }
      ]
    },
    {
      "cell_type": "code",
      "source": [
        "import matplotlib.pyplot as plt"
      ],
      "metadata": {
        "id": "TrepeY5OWxCH"
      },
      "execution_count": 29,
      "outputs": []
    },
    {
      "cell_type": "code",
      "source": [
        "x=[1,2,3,4,5,6,7,8,9,10]\n",
        "y=[10,9,8,7,6,5,4,3,2,1]"
      ],
      "metadata": {
        "id": "HgRguaR4XD7c"
      },
      "execution_count": 30,
      "outputs": []
    },
    {
      "cell_type": "code",
      "source": [
        "plt.plot(x,y)"
      ],
      "metadata": {
        "colab": {
          "base_uri": "https://localhost:8080/",
          "height": 448
        },
        "id": "FTuPoj9bXYxz",
        "outputId": "d3f1bdee-15a4-4da4-dde8-b785670aa79c"
      },
      "execution_count": 31,
      "outputs": [
        {
          "output_type": "execute_result",
          "data": {
            "text/plain": [
              "[<matplotlib.lines.Line2D at 0x7b41d0ad0bb0>]"
            ]
          },
          "metadata": {},
          "execution_count": 31
        },
        {
          "output_type": "display_data",
          "data": {
            "text/plain": [
              "<Figure size 640x480 with 1 Axes>"
            ],
            "image/png": "[encoded data removed]"
          },
          "metadata": {}
        }
      ]
    },
    {
      "cell_type": "code",
      "source": [
        "plt.bar(x,y)"
      ],
      "metadata": {
        "colab": {
          "base_uri": "https://localhost:8080/",
          "height": 448
        },
        "id": "hs6SaZ4YXwfk",
        "outputId": "e8b760d3-5114-4835-9fa0-e37f06230f8a"
      },
      "execution_count": 32,
      "outputs": [
        {
          "output_type": "execute_result",
          "data": {
            "text/plain": [
              "<BarContainer object of 10 artists>"
            ]
          },
          "metadata": {},
          "execution_count": 32
        },
        {
          "output_type": "display_data",
          "data": {
            "text/plain": [
              "<Figure size 640x480 with 1 Axes>"
            ],
            "image/png": "[encoded data removed]"
          },
          "metadata": {}
        }
      ]
    },
    {
      "cell_type": "code",
      "source": [
        "plt.scatter(x,y)"
      ],
      "metadata": {
        "colab": {
          "base_uri": "https://localhost:8080/",
          "height": 448
        },
        "id": "JCg-OgyUX2_Z",
        "outputId": "a1cfd86d-d16a-464f-d272-bf8b17456e7f"
      },
      "execution_count": 33,
      "outputs": [
        {
          "output_type": "execute_result",
          "data": {
            "text/plain": [
              "<matplotlib.collections.PathCollection at 0x7b41ce510070>"
            ]
          },
          "metadata": {},
          "execution_count": 33
        },
        {
          "output_type": "display_data",
          "data": {
            "text/plain": [
              "<Figure size 640x480 with 1 Axes>"
            ],
            "image/png": "[encoded data removed]"
          },
          "metadata": {}
        }
      ]
    },
    {
      "cell_type": "code",
      "source": [
        "plt.hist(x)"
      ],
      "metadata": {
        "colab": {
          "base_uri": "https://localhost:8080/",
          "height": 484
        },
        "id": "PUpOZSyYYAz2",
        "outputId": "483718cc-abe7-45c1-93b7-19fb849f3144"
      },
      "execution_count": 35,
      "outputs": [
        {
          "output_type": "execute_result",
          "data": {
            "text/plain": [
              "(array([1., 1., 1., 1., 1., 1., 1., 1., 1., 1.]),\n",
              " array([ 1. ,  1.9,  2.8,  3.7,  4.6,  5.5,  6.4,  7.3,  8.2,  9.1, 10. ]),\n",
              " <BarContainer object of 10 artists>)"
            ]
          },
          "metadata": {},
          "execution_count": 35
        },
        {
          "output_type": "display_data",
          "data": {
            "text/plain": [
              "<Figure size 640x480 with 1 Axes>"
            ],
            "image/png": "[encoded data removed]"
          },
          "metadata": {}
        }
      ]
    },
    {
      "cell_type": "code",
      "source": [
        "plt.hist(y)"
      ],
      "metadata": {
        "colab": {
          "base_uri": "https://localhost:8080/",
          "height": 484
        },
        "id": "oLUG7u0oYp0P",
        "outputId": "580d5642-6fc7-429b-e84f-06d7ad85548d"
      },
      "execution_count": 36,
      "outputs": [
        {
          "output_type": "execute_result",
          "data": {
            "text/plain": [
              "(array([1., 1., 1., 1., 1., 1., 1., 1., 1., 1.]),\n",
              " array([ 1. ,  1.9,  2.8,  3.7,  4.6,  5.5,  6.4,  7.3,  8.2,  9.1, 10. ]),\n",
              " <BarContainer object of 10 artists>)"
            ]
          },
          "metadata": {},
          "execution_count": 36
        },
        {
          "output_type": "display_data",
          "data": {
            "text/plain": [
              "<Figure size 640x480 with 1 Axes>"
            ],
            "image/png": "[encoded data removed]"
          },
          "metadata": {}
        }
      ]
    },
    {
      "cell_type": "code",
      "source": [
        "plt.pie(x)"
      ],
      "metadata": {
        "colab": {
          "base_uri": "https://localhost:8080/",
          "height": 763
        },
        "id": "LnmVzgUKZD_N",
        "outputId": "665331e0-21f8-45f8-e0e7-adf6fd7d0c2b"
      },
      "execution_count": 37,
      "outputs": [
        {
          "output_type": "execute_result",
          "data": {
            "text/plain": [
              "([<matplotlib.patches.Wedge at 0x7b41ce38e7d0>,\n",
              "  <matplotlib.patches.Wedge at 0x7b41ce38e6e0>,\n",
              "  <matplotlib.patches.Wedge at 0x7b41ce38f0a0>,\n",
              "  <matplotlib.patches.Wedge at 0x7b41ce38f520>,\n",
              "  <matplotlib.patches.Wedge at 0x7b41ce38f9a0>,\n",
              "  <matplotlib.patches.Wedge at 0x7b41ce38fe20>,\n",
              "  <matplotlib.patches.Wedge at 0x7b41ce3bc2e0>,\n",
              "  <matplotlib.patches.Wedge at 0x7b41ce3bc760>,\n",
              "  <matplotlib.patches.Wedge at 0x7b41ce3bcbe0>,\n",
              "  <matplotlib.patches.Wedge at 0x7b41ce3bd060>],\n",
              " [Text(1.0982060144323316, 0.06279768996272098, ''),\n",
              "  Text(1.0714131104390903, 0.24914643641688675, ''),\n",
              "  Text(0.9578206904715764, 0.5409062071233356, ''),\n",
              "  Text(0.6717126826129879, 0.871092458936974, ''),\n",
              "  Text(0.156546339476946, 1.0888035835706864, ''),\n",
              "  Text(-0.5133340491307307, 0.9728762274837682, ''),\n",
              "  Text(-1.0360287953626528, 0.36965434554379384, ''),\n",
              "  Text(-0.9578207031323996, -0.5409061847039242, ''),\n",
              "  Text(-0.09413258651866149, -1.0959648973189364, ''),\n",
              "  Text(0.9253788411904255, -0.5947049691040638, '')])"
            ]
          },
          "metadata": {},
          "execution_count": 37
        },
        {
          "output_type": "display_data",
          "data": {
            "text/plain": [
              "<Figure size 640x480 with 1 Axes>"
            ],
            "image/png": "[encoded data removed]"
          },
          "metadata": {}
        }
      ]
    },
    {
      "cell_type": "code",
      "source": [
        "plt.pie(y)"
      ],
      "metadata": {
        "colab": {
          "base_uri": "https://localhost:8080/",
          "height": 763
        },
        "id": "jRwJ0bT4ZKY2",
        "outputId": "ebad130d-6ca6-4156-b668-f79364d3ac2f"
      },
      "execution_count": 38,
      "outputs": [
        {
          "output_type": "execute_result",
          "data": {
            "text/plain": [
              "([<matplotlib.patches.Wedge at 0x7b41ce3c6e00>,\n",
              "  <matplotlib.patches.Wedge at 0x7b41ce3c6d10>,\n",
              "  <matplotlib.patches.Wedge at 0x7b41ce3c76d0>,\n",
              "  <matplotlib.patches.Wedge at 0x7b41ce3c7b50>,\n",
              "  <matplotlib.patches.Wedge at 0x7b41ce3c7fd0>,\n",
              "  <matplotlib.patches.Wedge at 0x7b41ce38b7c0>,\n",
              "  <matplotlib.patches.Wedge at 0x7b41ce38bbe0>,\n",
              "  <matplotlib.patches.Wedge at 0x7b41ce38ad10>,\n",
              "  <matplotlib.patches.Wedge at 0x7b41ce38b040>,\n",
              "  <matplotlib.patches.Wedge at 0x7b41ce38a920>],\n",
              " [Text(0.9253788759906099, 0.5947049149539254, ''),\n",
              "  Text(-0.09413252238638697, 1.095964902827265, ''),\n",
              "  Text(-0.9578206714803406, 0.5409062407524523, ''),\n",
              "  Text(-1.0360288169936123, -0.3696542849187825, ''),\n",
              "  Text(-0.5133341060602584, -0.9728761974451403, ''),\n",
              "  Text(0.15654627576372723, -1.0888035927312636, ''),\n",
              "  Text(0.6717126316395099, -0.871092498243398, ''),\n",
              "  Text(0.9578206588195157, -0.5409062631718632, ''),\n",
              "  Text(1.0714130958598553, -0.24914649911247114, ''),\n",
              "  Text(1.0982060107576146, -0.06279775422613838, '')])"
            ]
          },
          "metadata": {},
          "execution_count": 38
        },
        {
          "output_type": "display_data",
          "data": {
            "text/plain": [
              "<Figure size 640x480 with 1 Axes>"
            ],
            "image/png": "[encoded data removed]"
          },
          "metadata": {}
        }
      ]
    }
  ]
}